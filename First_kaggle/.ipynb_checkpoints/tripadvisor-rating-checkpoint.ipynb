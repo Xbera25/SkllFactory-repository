{
 "cells": [
  {
   "cell_type": "markdown",
   "metadata": {
    "cellId": "0aum9i1xzqn4xj2hqy6vxo"
   },
   "source": [
    "# Predict TripAdvisor Rating"
   ]
  },
  {
   "cell_type": "markdown",
   "metadata": {
    "cellId": "a10pe4sml1efksa73ln1h"
   },
   "source": [
    "# import"
   ]
  },
  {
   "cell_type": "code",
   "execution_count": 1,
   "metadata": {
    "_cell_guid": "b1076dfc-b9ad-4769-8c92-a6c4dae69d19",
    "_uuid": "8f2839f25d086af736a60e9eeb907d3b93b6e0e5",
    "cellId": "erj5m200pu65adrpzbqosy"
   },
   "outputs": [
    {
     "name": "stderr",
     "output_type": "stream",
     "text": [
      "[nltk_data] Downloading package stopwords to\n",
      "[nltk_data]     C:\\Users\\a.berezovaya\\AppData\\Roaming\\nltk_data...\n",
      "[nltk_data]   Package stopwords is already up-to-date!\n",
      "[nltk_data] Downloading package averaged_perceptron_tagger to\n",
      "[nltk_data]     C:\\Users\\a.berezovaya\\AppData\\Roaming\\nltk_data...\n",
      "[nltk_data]   Package averaged_perceptron_tagger is already up-to-\n",
      "[nltk_data]       date!\n",
      "[nltk_data] Downloading package vader_lexicon to\n",
      "[nltk_data]     C:\\Users\\a.berezovaya\\AppData\\Roaming\\nltk_data...\n",
      "[nltk_data]   Package vader_lexicon is already up-to-date!\n",
      "[nltk_data] Downloading package wordnet to\n",
      "[nltk_data]     C:\\Users\\a.berezovaya\\AppData\\Roaming\\nltk_data...\n",
      "[nltk_data]   Package wordnet is already up-to-date!\n"
     ]
    },
    {
     "data": {
      "text/plain": [
       "True"
      ]
     },
     "execution_count": 1,
     "metadata": {},
     "output_type": "execute_result"
    }
   ],
   "source": [
    "# Базовые\n",
    "import numpy as np \n",
    "import pandas as pd \n",
    "pd.options.display.max_colwidth = 3000\n",
    "\n",
    "# Для графиков\n",
    "import matplotlib.pyplot as plt\n",
    "%matplotlib inline\n",
    "import seaborn as sns\n",
    "\n",
    "# Для парсинга\n",
    "from urllib.error import HTTPError \n",
    "import requests\n",
    "from bs4 import BeautifulSoup\n",
    "import re\n",
    "from scraper_api import ScraperAPIClient\n",
    "\n",
    "# Для аналитики\n",
    "import string\n",
    "from sklearn.model_selection import train_test_split\n",
    "from sklearn.feature_extraction.text import TfidfVectorizer\n",
    "from sklearn.preprocessing import LabelEncoder, OneHotEncoder\n",
    "from nltk import pos_tag\n",
    "from nltk.corpus import stopwords\n",
    "from nltk.tokenize import WhitespaceTokenizer\n",
    "from nltk.stem import WordNetLemmatizer\n",
    "from nltk.corpus import wordnet\n",
    "from nltk.sentiment.vader import SentimentIntensityAnalyzer\n",
    "from gensim.test.utils import common_texts\n",
    "from gensim.models.doc2vec import Doc2Vec, TaggedDocument\n",
    "\n",
    "#Словари для обработки текста\n",
    "import nltk\n",
    "nltk.download('stopwords')\n",
    "nltk.download('averaged_perceptron_tagger')\n",
    "nltk.download('vader_lexicon')\n",
    "nltk.download('wordnet')"
   ]
  },
  {
   "cell_type": "code",
   "execution_count": 2,
   "metadata": {},
   "outputs": [],
   "source": [
    "#pip install scraperapi-sdk\n",
    "#from pandarallel import pandarallel\n",
    "#pandarallel.initialize()"
   ]
  },
  {
   "cell_type": "code",
   "execution_count": 3,
   "metadata": {},
   "outputs": [
    {
     "name": "stdout",
     "output_type": "stream",
     "text": [
      "data\\cities.csv\n",
      "data\\data_new.csv\n",
      "data\\kaggle_task.csv\n",
      "data\\main_task.csv\n",
      "data\\sample_submission.csv\n",
      "data\\TA_restaurants_curated.csv\n",
      "data\\worldcitiespop.csv\n"
     ]
    }
   ],
   "source": [
    "import os\n",
    "for dirname, _, filenames in os.walk('data'):\n",
    "    for filename in filenames:\n",
    "        print(os.path.join(dirname, filename))"
   ]
  },
  {
   "cell_type": "code",
   "execution_count": 4,
   "metadata": {},
   "outputs": [],
   "source": [
    "#pip install pandarallel\n",
    "#pandarallel.initialize()"
   ]
  },
  {
   "cell_type": "code",
   "execution_count": 5,
   "metadata": {
    "cellId": "ywmedr581uax4xyefx7f7"
   },
   "outputs": [],
   "source": [
    "# всегда фиксируйте RANDOM_SEED, чтобы ваши эксперименты были воспроизводимы!\n",
    "RANDOM_SEED = 42"
   ]
  },
  {
   "cell_type": "code",
   "execution_count": 6,
   "metadata": {
    "cellId": "brh0nhd0fmk2yhds8bv7jt"
   },
   "outputs": [
    {
     "name": "stdout",
     "output_type": "stream",
     "text": [
      "Note: you may need to restart the kernel to use updated packages.\n"
     ]
    }
   ],
   "source": [
    "# зафиксируем версию пакетов, чтобы эксперименты были воспроизводимы:\n",
    "%pip freeze > requirements.txt"
   ]
  },
  {
   "cell_type": "markdown",
   "metadata": {
    "cellId": "73ap9ldkzflnhqbpdcekak"
   },
   "source": [
    "# DATA"
   ]
  },
  {
   "cell_type": "code",
   "execution_count": 7,
   "metadata": {
    "_cell_guid": "79c7e3d0-c299-4dcb-8224-4455121ee9b0",
    "_uuid": "d629ff2d2480ee46fbb7e2d37f6b5fab8052498a",
    "cellId": "43okdxlfwv7ce60cnho7r"
   },
   "outputs": [],
   "source": [
    "DATA_DIR = 'data'\n",
    "df_train = pd.read_csv(DATA_DIR+'/main_task.csv')\n",
    "df_test = pd.read_csv(DATA_DIR+'/kaggle_task.csv')\n",
    "sample_submission = pd.read_csv(DATA_DIR+'/sample_submission.csv')"
   ]
  },
  {
   "cell_type": "code",
   "execution_count": 8,
   "metadata": {},
   "outputs": [
    {
     "name": "stdout",
     "output_type": "stream",
     "text": [
      "(40000, 10)\n",
      "Restaurant_id            0\n",
      "City                     0\n",
      "Cuisine Style         9283\n",
      "Ranking                  0\n",
      "Rating                   0\n",
      "Price Range          13886\n",
      "Number of Reviews     2543\n",
      "Reviews                  0\n",
      "URL_TA                   0\n",
      "ID_TA                    0\n",
      "dtype: int64\n"
     ]
    }
   ],
   "source": [
    "print(df_train.shape)\n",
    "print(df_train.isna().sum())"
   ]
  },
  {
   "cell_type": "markdown",
   "metadata": {},
   "source": [
    "##### Я не успевала распасрсить данные (постараюсь к отправке), а пока альтернативный ваиант"
   ]
  },
  {
   "cell_type": "markdown",
   "metadata": {},
   "source": [
    "*https://www.kaggle.com/damienbeneschi/krakow-ta-restaurans-data-raw"
   ]
  },
  {
   "cell_type": "code",
   "execution_count": 9,
   "metadata": {},
   "outputs": [],
   "source": [
    "df_new = pd.read_csv(DATA_DIR+'/TA_restaurants_curated.csv')\n",
    "df_new['Restaurant_id'] = \"id_\" +df_new['Unnamed: 0'].astype(str)\n",
    "df_new = df_new[~(df_new['Rating'].isna())]\n",
    "df_new = df_new[~df_new['URL_TA'].isin(df_test['URL_TA'])]\n",
    "df_new = df_new[['Restaurant_id', 'City', 'Cuisine Style', 'Ranking', 'Rating',\n",
    "       'Price Range', 'Number of Reviews', 'Reviews', 'URL_TA', 'ID_TA']]\n",
    "\n",
    "df_train = df_train.append(df_new)\n",
    "df_train.drop_duplicates(keep ='first',subset = 'URL_TA',inplace = True)"
   ]
  },
  {
   "cell_type": "code",
   "execution_count": 10,
   "metadata": {},
   "outputs": [
    {
     "name": "stdout",
     "output_type": "stream",
     "text": [
      "(105751, 10)\n",
      "Restaurant_id            0\n",
      "City                     0\n",
      "Cuisine Style        24495\n",
      "Ranking                146\n",
      "Rating                   0\n",
      "Price Range          36876\n",
      "Number of Reviews     7055\n",
      "Reviews                  3\n",
      "URL_TA                   0\n",
      "ID_TA                    0\n",
      "dtype: int64\n"
     ]
    }
   ],
   "source": [
    "print(df_train.shape)\n",
    "print(df_train.isna().sum())"
   ]
  },
  {
   "cell_type": "markdown",
   "metadata": {
    "cellId": "c16pldkwkp6xyty45wnev"
   },
   "source": [
    "##### Данные по городам я не стала парсить а взяла из открытых датасетов"
   ]
  },
  {
   "cell_type": "markdown",
   "metadata": {
    "cellId": "87tihlmcoj2qxphxyilzd8"
   },
   "source": [
    "*https://public.opendatasoft.com/explore/dataset/worldcitiespop/table/?disjunctive.country&sort=population"
   ]
  },
  {
   "cell_type": "code",
   "execution_count": 11,
   "metadata": {
    "cellId": "bobn054nb4c8c2lljas715"
   },
   "outputs": [],
   "source": [
    "cities = pd.read_csv(DATA_DIR+'/cities.csv')"
   ]
  },
  {
   "cell_type": "code",
   "execution_count": 12,
   "metadata": {
    "cellId": "caaiq3z9f19tu3pcjflu"
   },
   "outputs": [],
   "source": [
    "# ВАЖНО! дря корректной обработки признаков объединяем трейн и тест в один датасет\n",
    "df_train['sample'] = 1 # помечаем где у нас трейн\n",
    "df_test['sample'] = 0 # помечаем где у нас тест\n",
    "df_test['Rating'] = 0 # в тесте у нас нет значения Rating, мы его должны предсказать, по этому пока просто заполняем нулями\n",
    "\n",
    "data = df_test.append(df_train, sort=False).reset_index(drop=True) # объединяем"
   ]
  },
  {
   "cell_type": "markdown",
   "metadata": {
    "cellId": "93pmvsu922u0r12ia9o7pv"
   },
   "source": [
    "#### Для тестирования обработки беру только 300 строк"
   ]
  },
  {
   "cell_type": "code",
   "execution_count": 13,
   "metadata": {
    "cellId": "k6jh4mgc3qe2d8qrtjfbb4"
   },
   "outputs": [
    {
     "data": {
      "text/plain": [
       "Restaurant_id        0\n",
       "City                 0\n",
       "Cuisine Style        5\n",
       "Ranking              0\n",
       "Price Range          9\n",
       "Number of Reviews    2\n",
       "Reviews              0\n",
       "URL_TA               0\n",
       "ID_TA                0\n",
       "sample               0\n",
       "Rating               0\n",
       "dtype: int64"
      ]
     },
     "execution_count": 13,
     "metadata": {},
     "output_type": "execute_result"
    }
   ],
   "source": [
    "df = data.sample(20)\n",
    "df.isna().sum()"
   ]
  },
  {
   "cell_type": "markdown",
   "metadata": {
    "cellId": "03jbhsxeomhjmd8bqoy6ja"
   },
   "source": [
    "Подробнее по признакам:\n",
    "* City: Город \n",
    "* Cuisine Style: Кухня\n",
    "* Ranking: Ранг ресторана относительно других ресторанов в этом городе\n",
    "* Price Range: Цены в ресторане в 3 категориях\n",
    "* Number of Reviews: Количество отзывов\n",
    "* Reviews: 2 последних отзыва и даты этих отзывов\n",
    "* URL_TA: страница ресторана на 'www.tripadvisor.com' \n",
    "* ID_TA: ID ресторана в TripAdvisor\n",
    "* Rating: Рейтинг ресторана"
   ]
  },
  {
   "cell_type": "markdown",
   "metadata": {
    "cellId": "n6s1rdcoxgsiiqsp6xilk"
   },
   "source": [
    "# Cleaning and Prepping Data"
   ]
  },
  {
   "cell_type": "markdown",
   "metadata": {
    "cellId": "v4a6w15mdvm9p7dia73oih"
   },
   "source": [
    "## 1. Обработка NAN "
   ]
  },
  {
   "cell_type": "code",
   "execution_count": 14,
   "metadata": {
    "cellId": "cd8jrziullhxu8bs0277i"
   },
   "outputs": [
    {
     "data": {
      "text/plain": [
       "220"
      ]
     },
     "execution_count": 14,
     "metadata": {},
     "output_type": "execute_result"
    }
   ],
   "source": [
    "df.isna().size"
   ]
  },
  {
   "cell_type": "code",
   "execution_count": 15,
   "metadata": {
    "cellId": "k4tem6eba6l8afksa5d475"
   },
   "outputs": [],
   "source": [
    "def get_na(df): #check_rev,check_price,check_cuisine,url\n",
    "    check_rev = df['Number of Reviews']\n",
    "    check_price = df['Price Range']\n",
    "    check_cuisine = df['Cuisine Style']\n",
    "    url = df['URL_TA']\n",
    "    web =requests.get('https://www.tripadvisor.com' +url)\n",
    "    soup = BeautifulSoup(web.text)\n",
    "\n",
    "    #number of reviews\n",
    "    if check_rev>0:\n",
    "        result_rev = check_rev\n",
    "    else:\n",
    "        try:\n",
    "            result_list = soup.find(class_=\"_10Iv7dOs\").contents[0]\n",
    "            result = re.findall('(\\d*\\,\\d+|\\d+)', result_list)[0]\n",
    "            if  int(result.replace(\",\", \".\"))>0 :\n",
    "                result_rev = int(result.replace(\",\", \".\"))\n",
    "            else:\n",
    "                result_rev = 0\n",
    "        except (AttributeError, ValueError): \n",
    "            result_rev = 0\n",
    "            \n",
    "    #price range\n",
    "    if '$' in str(check_price):\n",
    "        result_price = check_price\n",
    "    else:\n",
    "        try:\n",
    "            result_list = soup.find(class_=\"_2mn01bsa\").contents[0]\n",
    "            if '$' in str(result_list):\n",
    "                result_price = result_list \n",
    "            else:\n",
    "                result_price = '$$ - $$$'\n",
    "        except (AttributeError, ValueError): \n",
    "            result_price = '$$ - $$$'\n",
    "\n",
    "    #cuisine\n",
    "    if pd.notnull(check_cuisine):\n",
    "        result_cuis = check_cuisine\n",
    "    else:    \n",
    "        try:\n",
    "            result_list = soup.find_all(class_=\"_1XLfiSsv\")\n",
    "            result_list = [r.contents for r in result_list]   \n",
    "            result_list = ', '.join(list(map(''.join, result_list)))\n",
    "            if len(result_list)>2:\n",
    "                result_cuis = result_list\n",
    "            else:\n",
    "                result_cuis = 'Not stated'\n",
    "        except (AttributeError, ValueError):\n",
    "            result_cuis = 'Not stated'\n",
    "        \n",
    "        df['Number of Reviews'] = result_rev\n",
    "        df['Price Range'] = result_price\n",
    "        df['Cuisine Style'] = result_cuis\n",
    "        df['Ranking'] = 0 \n",
    "    return df"
   ]
  },
  {
   "cell_type": "code",
   "execution_count": 16,
   "metadata": {},
   "outputs": [
    {
     "data": {
      "text/html": [
       "<div>\n",
       "<style scoped>\n",
       "    .dataframe tbody tr th:only-of-type {\n",
       "        vertical-align: middle;\n",
       "    }\n",
       "\n",
       "    .dataframe tbody tr th {\n",
       "        vertical-align: top;\n",
       "    }\n",
       "\n",
       "    .dataframe thead th {\n",
       "        text-align: right;\n",
       "    }\n",
       "</style>\n",
       "<table border=\"1\" class=\"dataframe\">\n",
       "  <thead>\n",
       "    <tr style=\"text-align: right;\">\n",
       "      <th></th>\n",
       "      <th>Restaurant_id</th>\n",
       "      <th>City</th>\n",
       "      <th>Cuisine Style</th>\n",
       "      <th>Ranking</th>\n",
       "      <th>Price Range</th>\n",
       "      <th>Number of Reviews</th>\n",
       "      <th>Reviews</th>\n",
       "      <th>URL_TA</th>\n",
       "      <th>ID_TA</th>\n",
       "      <th>sample</th>\n",
       "      <th>Rating</th>\n",
       "    </tr>\n",
       "  </thead>\n",
       "  <tbody>\n",
       "    <tr>\n",
       "      <th>64524</th>\n",
       "      <td>id_2384</td>\n",
       "      <td>Budapest</td>\n",
       "      <td>NaN</td>\n",
       "      <td>2385.0</td>\n",
       "      <td>NaN</td>\n",
       "      <td>2.0</td>\n",
       "      <td>[['Not a place to go for eating..', 'used to be better'], ['05/11/2013', '02/21/2008']]</td>\n",
       "      <td>/Restaurant_Review-g274887-d812731-Reviews-Passaret_Club_etterem-Budapest_Central_Hungary.html</td>\n",
       "      <td>d812731</td>\n",
       "      <td>1</td>\n",
       "      <td>1.5</td>\n",
       "    </tr>\n",
       "    <tr>\n",
       "      <th>31354</th>\n",
       "      <td>id_1476</td>\n",
       "      <td>Athens</td>\n",
       "      <td>['Cafe']</td>\n",
       "      <td>1478.0</td>\n",
       "      <td>NaN</td>\n",
       "      <td>2.0</td>\n",
       "      <td>[[], []]</td>\n",
       "      <td>/Restaurant_Review-g189400-d8037970-Reviews-Katastari-Athens_Attica.html</td>\n",
       "      <td>d8037970</td>\n",
       "      <td>1</td>\n",
       "      <td>4.0</td>\n",
       "    </tr>\n",
       "    <tr>\n",
       "      <th>81322</th>\n",
       "      <td>id_13242</td>\n",
       "      <td>London</td>\n",
       "      <td>NaN</td>\n",
       "      <td>13252.0</td>\n",
       "      <td>NaN</td>\n",
       "      <td>3.0</td>\n",
       "      <td>[['A unique location', 'Fantastic place'], ['05/25/2017', '06/15/2016']]</td>\n",
       "      <td>/Restaurant_Review-g186338-d5433454-Reviews-COCO_Cafe-London_England.html</td>\n",
       "      <td>d5433454</td>\n",
       "      <td>1</td>\n",
       "      <td>3.5</td>\n",
       "    </tr>\n",
       "    <tr>\n",
       "      <th>60837</th>\n",
       "      <td>id_6178</td>\n",
       "      <td>Berlin</td>\n",
       "      <td>['Mexican', 'American', 'Cafe']</td>\n",
       "      <td>6180.0</td>\n",
       "      <td>NaN</td>\n",
       "      <td>14.0</td>\n",
       "      <td>[[], []]</td>\n",
       "      <td>/Restaurant_Review-g187323-d695595-Reviews-Cruise_In_American_Diner-Berlin.html</td>\n",
       "      <td>d695595</td>\n",
       "      <td>1</td>\n",
       "      <td>3.0</td>\n",
       "    </tr>\n",
       "    <tr>\n",
       "      <th>115104</th>\n",
       "      <td>id_462</td>\n",
       "      <td>Zurich</td>\n",
       "      <td>NaN</td>\n",
       "      <td>465.0</td>\n",
       "      <td>NaN</td>\n",
       "      <td>14.0</td>\n",
       "      <td>[['Great place to work', 'Great Coffee place'], ['10/11/2017', '09/16/2017']]</td>\n",
       "      <td>/Restaurant_Review-g188113-d10131527-Reviews-Auer_Co-Zurich.html</td>\n",
       "      <td>d10131527</td>\n",
       "      <td>1</td>\n",
       "      <td>4.5</td>\n",
       "    </tr>\n",
       "  </tbody>\n",
       "</table>\n",
       "</div>"
      ],
      "text/plain": [
       "       Restaurant_id      City                    Cuisine Style  Ranking  \\\n",
       "64524        id_2384  Budapest                              NaN   2385.0   \n",
       "31354        id_1476    Athens                         ['Cafe']   1478.0   \n",
       "81322       id_13242    London                              NaN  13252.0   \n",
       "60837        id_6178    Berlin  ['Mexican', 'American', 'Cafe']   6180.0   \n",
       "115104        id_462    Zurich                              NaN    465.0   \n",
       "\n",
       "       Price Range  Number of Reviews  \\\n",
       "64524          NaN                2.0   \n",
       "31354          NaN                2.0   \n",
       "81322          NaN                3.0   \n",
       "60837          NaN               14.0   \n",
       "115104         NaN               14.0   \n",
       "\n",
       "                                                                                        Reviews  \\\n",
       "64524   [['Not a place to go for eating..', 'used to be better'], ['05/11/2013', '02/21/2008']]   \n",
       "31354                                                                                  [[], []]   \n",
       "81322                  [['A unique location', 'Fantastic place'], ['05/25/2017', '06/15/2016']]   \n",
       "60837                                                                                  [[], []]   \n",
       "115104            [['Great place to work', 'Great Coffee place'], ['10/11/2017', '09/16/2017']]   \n",
       "\n",
       "                                                                                                URL_TA  \\\n",
       "64524   /Restaurant_Review-g274887-d812731-Reviews-Passaret_Club_etterem-Budapest_Central_Hungary.html   \n",
       "31354                         /Restaurant_Review-g189400-d8037970-Reviews-Katastari-Athens_Attica.html   \n",
       "81322                        /Restaurant_Review-g186338-d5433454-Reviews-COCO_Cafe-London_England.html   \n",
       "60837                  /Restaurant_Review-g187323-d695595-Reviews-Cruise_In_American_Diner-Berlin.html   \n",
       "115104                                /Restaurant_Review-g188113-d10131527-Reviews-Auer_Co-Zurich.html   \n",
       "\n",
       "            ID_TA  sample  Rating  \n",
       "64524     d812731       1     1.5  \n",
       "31354    d8037970       1     4.0  \n",
       "81322    d5433454       1     3.5  \n",
       "60837     d695595       1     3.0  \n",
       "115104  d10131527       1     4.5  "
      ]
     },
     "execution_count": 16,
     "metadata": {},
     "output_type": "execute_result"
    }
   ],
   "source": [
    "df = df[df.isnull().any(axis=1)]\n",
    "df.head()"
   ]
  },
  {
   "cell_type": "code",
   "execution_count": 17,
   "metadata": {
    "cellId": "5g8uq8fejgkaa2zwf72w"
   },
   "outputs": [
    {
     "data": {
      "text/html": [
       "<div>\n",
       "<style scoped>\n",
       "    .dataframe tbody tr th:only-of-type {\n",
       "        vertical-align: middle;\n",
       "    }\n",
       "\n",
       "    .dataframe tbody tr th {\n",
       "        vertical-align: top;\n",
       "    }\n",
       "\n",
       "    .dataframe thead th {\n",
       "        text-align: right;\n",
       "    }\n",
       "</style>\n",
       "<table border=\"1\" class=\"dataframe\">\n",
       "  <thead>\n",
       "    <tr style=\"text-align: right;\">\n",
       "      <th></th>\n",
       "      <th>Restaurant_id</th>\n",
       "      <th>City</th>\n",
       "      <th>Cuisine Style</th>\n",
       "      <th>Ranking</th>\n",
       "      <th>Price Range</th>\n",
       "      <th>Number of Reviews</th>\n",
       "      <th>Reviews</th>\n",
       "      <th>URL_TA</th>\n",
       "      <th>ID_TA</th>\n",
       "      <th>sample</th>\n",
       "      <th>Rating</th>\n",
       "    </tr>\n",
       "  </thead>\n",
       "  <tbody>\n",
       "    <tr>\n",
       "      <th>64524</th>\n",
       "      <td>id_2384</td>\n",
       "      <td>Budapest</td>\n",
       "      <td>RUB 1,087 - RUB 1,449, Hungarian, Lunch</td>\n",
       "      <td>0.0</td>\n",
       "      <td>$$ - $$$</td>\n",
       "      <td>2.0</td>\n",
       "      <td>[['Not a place to go for eating..', 'used to be better'], ['05/11/2013', '02/21/2008']]</td>\n",
       "      <td>/Restaurant_Review-g274887-d812731-Reviews-Passaret_Club_etterem-Budapest_Central_Hungary.html</td>\n",
       "      <td>d812731</td>\n",
       "      <td>1</td>\n",
       "      <td>1.5</td>\n",
       "    </tr>\n",
       "    <tr>\n",
       "      <th>31354</th>\n",
       "      <td>id_1476</td>\n",
       "      <td>Athens</td>\n",
       "      <td>['Cafe']</td>\n",
       "      <td>1478.0</td>\n",
       "      <td>NaN</td>\n",
       "      <td>2.0</td>\n",
       "      <td>[[], []]</td>\n",
       "      <td>/Restaurant_Review-g189400-d8037970-Reviews-Katastari-Athens_Attica.html</td>\n",
       "      <td>d8037970</td>\n",
       "      <td>1</td>\n",
       "      <td>4.0</td>\n",
       "    </tr>\n",
       "    <tr>\n",
       "      <th>81322</th>\n",
       "      <td>id_13242</td>\n",
       "      <td>London</td>\n",
       "      <td>Breakfast, Lunch</td>\n",
       "      <td>0.0</td>\n",
       "      <td>$</td>\n",
       "      <td>3.0</td>\n",
       "      <td>[['A unique location', 'Fantastic place'], ['05/25/2017', '06/15/2016']]</td>\n",
       "      <td>/Restaurant_Review-g186338-d5433454-Reviews-COCO_Cafe-London_England.html</td>\n",
       "      <td>d5433454</td>\n",
       "      <td>1</td>\n",
       "      <td>3.5</td>\n",
       "    </tr>\n",
       "    <tr>\n",
       "      <th>60837</th>\n",
       "      <td>id_6178</td>\n",
       "      <td>Berlin</td>\n",
       "      <td>['Mexican', 'American', 'Cafe']</td>\n",
       "      <td>6180.0</td>\n",
       "      <td>NaN</td>\n",
       "      <td>14.0</td>\n",
       "      <td>[[], []]</td>\n",
       "      <td>/Restaurant_Review-g187323-d695595-Reviews-Cruise_In_American_Diner-Berlin.html</td>\n",
       "      <td>d695595</td>\n",
       "      <td>1</td>\n",
       "      <td>3.0</td>\n",
       "    </tr>\n",
       "    <tr>\n",
       "      <th>115104</th>\n",
       "      <td>id_462</td>\n",
       "      <td>Zurich</td>\n",
       "      <td>Cafe, Bar, Contemporary, Pub, Healthy, Soups, Vegetarian Friendly, Breakfast, Lunch, Brunch, Drinks</td>\n",
       "      <td>0.0</td>\n",
       "      <td>$$ - $$$</td>\n",
       "      <td>14.0</td>\n",
       "      <td>[['Great place to work', 'Great Coffee place'], ['10/11/2017', '09/16/2017']]</td>\n",
       "      <td>/Restaurant_Review-g188113-d10131527-Reviews-Auer_Co-Zurich.html</td>\n",
       "      <td>d10131527</td>\n",
       "      <td>1</td>\n",
       "      <td>4.5</td>\n",
       "    </tr>\n",
       "  </tbody>\n",
       "</table>\n",
       "</div>"
      ],
      "text/plain": [
       "       Restaurant_id      City  \\\n",
       "64524        id_2384  Budapest   \n",
       "31354        id_1476    Athens   \n",
       "81322       id_13242    London   \n",
       "60837        id_6178    Berlin   \n",
       "115104        id_462    Zurich   \n",
       "\n",
       "                                                                                              Cuisine Style  \\\n",
       "64524                                                               RUB 1,087 - RUB 1,449, Hungarian, Lunch   \n",
       "31354                                                                                              ['Cafe']   \n",
       "81322                                                                                      Breakfast, Lunch   \n",
       "60837                                                                       ['Mexican', 'American', 'Cafe']   \n",
       "115104  Cafe, Bar, Contemporary, Pub, Healthy, Soups, Vegetarian Friendly, Breakfast, Lunch, Brunch, Drinks   \n",
       "\n",
       "        Ranking Price Range  Number of Reviews  \\\n",
       "64524       0.0    $$ - $$$                2.0   \n",
       "31354    1478.0         NaN                2.0   \n",
       "81322       0.0           $                3.0   \n",
       "60837    6180.0         NaN               14.0   \n",
       "115104      0.0    $$ - $$$               14.0   \n",
       "\n",
       "                                                                                        Reviews  \\\n",
       "64524   [['Not a place to go for eating..', 'used to be better'], ['05/11/2013', '02/21/2008']]   \n",
       "31354                                                                                  [[], []]   \n",
       "81322                  [['A unique location', 'Fantastic place'], ['05/25/2017', '06/15/2016']]   \n",
       "60837                                                                                  [[], []]   \n",
       "115104            [['Great place to work', 'Great Coffee place'], ['10/11/2017', '09/16/2017']]   \n",
       "\n",
       "                                                                                                URL_TA  \\\n",
       "64524   /Restaurant_Review-g274887-d812731-Reviews-Passaret_Club_etterem-Budapest_Central_Hungary.html   \n",
       "31354                         /Restaurant_Review-g189400-d8037970-Reviews-Katastari-Athens_Attica.html   \n",
       "81322                        /Restaurant_Review-g186338-d5433454-Reviews-COCO_Cafe-London_England.html   \n",
       "60837                  /Restaurant_Review-g187323-d695595-Reviews-Cruise_In_American_Diner-Berlin.html   \n",
       "115104                                /Restaurant_Review-g188113-d10131527-Reviews-Auer_Co-Zurich.html   \n",
       "\n",
       "            ID_TA  sample  Rating  \n",
       "64524     d812731       1     1.5  \n",
       "31354    d8037970       1     4.0  \n",
       "81322    d5433454       1     3.5  \n",
       "60837     d695595       1     3.0  \n",
       "115104  d10131527       1     4.5  "
      ]
     },
     "execution_count": 17,
     "metadata": {},
     "output_type": "execute_result"
    }
   ],
   "source": [
    "df[['Ranking','Number of Reviews','Price Range','Cuisine Style','URL_TA']] = df[['Ranking','Number of Reviews','Price Range','Cuisine Style','URL_TA']].apply(get_na,axis=1)\n",
    "df.head()"
   ]
  },
  {
   "cell_type": "code",
   "execution_count": 18,
   "metadata": {
    "cellId": "fagydi225ejnwq254mozlp"
   },
   "outputs": [
    {
     "data": {
      "text/plain": [
       "Restaurant_id        0\n",
       "City                 0\n",
       "Cuisine Style        0\n",
       "Ranking              0\n",
       "Price Range          4\n",
       "Number of Reviews    1\n",
       "Reviews              0\n",
       "URL_TA               0\n",
       "ID_TA                0\n",
       "sample               0\n",
       "Rating               0\n",
       "dtype: int64"
      ]
     },
     "execution_count": 18,
     "metadata": {},
     "output_type": "execute_result"
    }
   ],
   "source": [
    "df.isna().sum()"
   ]
  },
  {
   "cell_type": "markdown",
   "metadata": {
    "cellId": "s451pbro3w826gsj33nm"
   },
   "source": [
    "### 2. Обработка признаков"
   ]
  },
  {
   "cell_type": "markdown",
   "metadata": {
    "cellId": "9m2ragwhg7q9hw2bho54"
   },
   "source": [
    "#### Price Range"
   ]
  },
  {
   "cell_type": "code",
   "execution_count": 19,
   "metadata": {
    "cellId": "s4tgursrb9iow7p5fwkc5"
   },
   "outputs": [
    {
     "data": {
      "text/html": [
       "<div>\n",
       "<style scoped>\n",
       "    .dataframe tbody tr th:only-of-type {\n",
       "        vertical-align: middle;\n",
       "    }\n",
       "\n",
       "    .dataframe tbody tr th {\n",
       "        vertical-align: top;\n",
       "    }\n",
       "\n",
       "    .dataframe thead th {\n",
       "        text-align: right;\n",
       "    }\n",
       "</style>\n",
       "<table border=\"1\" class=\"dataframe\">\n",
       "  <thead>\n",
       "    <tr style=\"text-align: right;\">\n",
       "      <th></th>\n",
       "      <th>Restaurant_id</th>\n",
       "      <th>City</th>\n",
       "      <th>Cuisine Style</th>\n",
       "      <th>Ranking</th>\n",
       "      <th>Price Range</th>\n",
       "      <th>Number of Reviews</th>\n",
       "      <th>Reviews</th>\n",
       "      <th>URL_TA</th>\n",
       "      <th>ID_TA</th>\n",
       "      <th>sample</th>\n",
       "      <th>Rating</th>\n",
       "    </tr>\n",
       "  </thead>\n",
       "  <tbody>\n",
       "    <tr>\n",
       "      <th>64524</th>\n",
       "      <td>id_2384</td>\n",
       "      <td>Budapest</td>\n",
       "      <td>RUB 1,087 - RUB 1,449, Hungarian, Lunch</td>\n",
       "      <td>0.0</td>\n",
       "      <td>2.0</td>\n",
       "      <td>2.0</td>\n",
       "      <td>[['Not a place to go for eating..', 'used to be better'], ['05/11/2013', '02/21/2008']]</td>\n",
       "      <td>/Restaurant_Review-g274887-d812731-Reviews-Passaret_Club_etterem-Budapest_Central_Hungary.html</td>\n",
       "      <td>d812731</td>\n",
       "      <td>1</td>\n",
       "      <td>1.5</td>\n",
       "    </tr>\n",
       "    <tr>\n",
       "      <th>31354</th>\n",
       "      <td>id_1476</td>\n",
       "      <td>Athens</td>\n",
       "      <td>['Cafe']</td>\n",
       "      <td>1478.0</td>\n",
       "      <td>NaN</td>\n",
       "      <td>2.0</td>\n",
       "      <td>[[], []]</td>\n",
       "      <td>/Restaurant_Review-g189400-d8037970-Reviews-Katastari-Athens_Attica.html</td>\n",
       "      <td>d8037970</td>\n",
       "      <td>1</td>\n",
       "      <td>4.0</td>\n",
       "    </tr>\n",
       "  </tbody>\n",
       "</table>\n",
       "</div>"
      ],
      "text/plain": [
       "      Restaurant_id      City                            Cuisine Style  \\\n",
       "64524       id_2384  Budapest  RUB 1,087 - RUB 1,449, Hungarian, Lunch   \n",
       "31354       id_1476    Athens                                 ['Cafe']   \n",
       "\n",
       "       Ranking  Price Range  Number of Reviews  \\\n",
       "64524      0.0          2.0                2.0   \n",
       "31354   1478.0          NaN                2.0   \n",
       "\n",
       "                                                                                       Reviews  \\\n",
       "64524  [['Not a place to go for eating..', 'used to be better'], ['05/11/2013', '02/21/2008']]   \n",
       "31354                                                                                 [[], []]   \n",
       "\n",
       "                                                                                               URL_TA  \\\n",
       "64524  /Restaurant_Review-g274887-d812731-Reviews-Passaret_Club_etterem-Budapest_Central_Hungary.html   \n",
       "31354                        /Restaurant_Review-g189400-d8037970-Reviews-Katastari-Athens_Attica.html   \n",
       "\n",
       "          ID_TA  sample  Rating  \n",
       "64524   d812731       1     1.5  \n",
       "31354  d8037970       1     4.0  "
      ]
     },
     "execution_count": 19,
     "metadata": {},
     "output_type": "execute_result"
    }
   ],
   "source": [
    "# Ваша обработка 'Price Range'\n",
    "price_dict = {'$': 1, \n",
    "       '$$ - $$$': 2,\n",
    "          '$$$$' : 3}\n",
    "\n",
    "df['Price Range'].replace(price_dict, inplace=True)\n",
    "df.head(2)"
   ]
  },
  {
   "cell_type": "markdown",
   "metadata": {
    "cellId": "is00pj78ab8own1z3t8k9"
   },
   "source": [
    "#### Отзывы"
   ]
  },
  {
   "cell_type": "code",
   "execution_count": 20,
   "metadata": {
    "cellId": "l7x5m58d2cl04it8ptpso7v"
   },
   "outputs": [],
   "source": [
    "# функции для очистки и маркировки\n",
    "def clean_text(text):\n",
    "    # lower text\n",
    "    text = text.lower()\n",
    "    # tokenize text and remove puncutation\n",
    "    text = [word.strip(string.punctuation) for word in text.split(\" \")]\n",
    "    # remove words that contain numbers\n",
    "    text = [word for word in text if not any(c.isdigit() for c in word)]\n",
    "    # remove stop words\n",
    "    stop = stopwords.words('english')\n",
    "    text = [x for x in text if x not in stop]\n",
    "    # remove empty tokens\n",
    "    text = [t for t in text if len(t) > 0]\n",
    "    # pos tag text\n",
    "    pos_tags = pos_tag(text)\n",
    "    # lemmatize text\n",
    "    text = [WordNetLemmatizer().lemmatize(t[0], get_wordnet_pos(t[1])) for t in pos_tags]\n",
    "    # remove words with only one letter\n",
    "    text = [t for t in text if len(t) > 1]\n",
    "    # join all\n",
    "    text = \" \".join(text)\n",
    "    return(text)\n",
    "\n",
    "def get_wordnet_pos(pos_tag):\n",
    "    if pos_tag.startswith('J'):\n",
    "        return wordnet.ADJ\n",
    "    elif pos_tag.startswith('V'):\n",
    "        return wordnet.VERB\n",
    "    elif pos_tag.startswith('N'):\n",
    "        return wordnet.NOUN\n",
    "    elif pos_tag.startswith('R'):\n",
    "        return wordnet.ADV\n",
    "    else:\n",
    "        return wordnet.NOUN"
   ]
  },
  {
   "cell_type": "markdown",
   "metadata": {
    "cellId": "vj2pezvr8udvd90wen8ck"
   },
   "source": [
    "#### Очистка текста "
   ]
  },
  {
   "cell_type": "code",
   "execution_count": 21,
   "metadata": {
    "cellId": "jeoi2gy10opt5k4v7nwbms"
   },
   "outputs": [
    {
     "data": {
      "text/html": [
       "<div>\n",
       "<style scoped>\n",
       "    .dataframe tbody tr th:only-of-type {\n",
       "        vertical-align: middle;\n",
       "    }\n",
       "\n",
       "    .dataframe tbody tr th {\n",
       "        vertical-align: top;\n",
       "    }\n",
       "\n",
       "    .dataframe thead th {\n",
       "        text-align: right;\n",
       "    }\n",
       "</style>\n",
       "<table border=\"1\" class=\"dataframe\">\n",
       "  <thead>\n",
       "    <tr style=\"text-align: right;\">\n",
       "      <th></th>\n",
       "      <th>Restaurant_id</th>\n",
       "      <th>City</th>\n",
       "      <th>Cuisine Style</th>\n",
       "      <th>Ranking</th>\n",
       "      <th>Price Range</th>\n",
       "      <th>Number of Reviews</th>\n",
       "      <th>Reviews</th>\n",
       "      <th>URL_TA</th>\n",
       "      <th>ID_TA</th>\n",
       "      <th>sample</th>\n",
       "      <th>...</th>\n",
       "      <th>neu</th>\n",
       "      <th>pos</th>\n",
       "      <th>compound</th>\n",
       "      <th>nb_chars</th>\n",
       "      <th>nb_words</th>\n",
       "      <th>doc2vec_vector_0</th>\n",
       "      <th>doc2vec_vector_1</th>\n",
       "      <th>doc2vec_vector_2</th>\n",
       "      <th>doc2vec_vector_3</th>\n",
       "      <th>doc2vec_vector_4</th>\n",
       "    </tr>\n",
       "  </thead>\n",
       "  <tbody>\n",
       "    <tr>\n",
       "      <th>64524</th>\n",
       "      <td>id_2384</td>\n",
       "      <td>Budapest</td>\n",
       "      <td>RUB 1,087 - RUB 1,449, Hungarian, Lunch</td>\n",
       "      <td>0.0</td>\n",
       "      <td>2.0</td>\n",
       "      <td>2.0</td>\n",
       "      <td>[['Not a place to go for eating..', 'used to be better'], ['05/11/2013', '02/21/2008']]</td>\n",
       "      <td>/Restaurant_Review-g274887-d812731-Reviews-Passaret_Club_etterem-Budapest_Central_Hungary.html</td>\n",
       "      <td>d812731</td>\n",
       "      <td>1</td>\n",
       "      <td>...</td>\n",
       "      <td>0.656</td>\n",
       "      <td>0.344</td>\n",
       "      <td>0.2732</td>\n",
       "      <td>21</td>\n",
       "      <td>5</td>\n",
       "      <td>-0.002717</td>\n",
       "      <td>0.038857</td>\n",
       "      <td>-0.01993</td>\n",
       "      <td>0.062872</td>\n",
       "      <td>-0.06614</td>\n",
       "    </tr>\n",
       "  </tbody>\n",
       "</table>\n",
       "<p>1 rows × 23 columns</p>\n",
       "</div>"
      ],
      "text/plain": [
       "      Restaurant_id      City                            Cuisine Style  \\\n",
       "64524       id_2384  Budapest  RUB 1,087 - RUB 1,449, Hungarian, Lunch   \n",
       "\n",
       "       Ranking  Price Range  Number of Reviews  \\\n",
       "64524      0.0          2.0                2.0   \n",
       "\n",
       "                                                                                       Reviews  \\\n",
       "64524  [['Not a place to go for eating..', 'used to be better'], ['05/11/2013', '02/21/2008']]   \n",
       "\n",
       "                                                                                               URL_TA  \\\n",
       "64524  /Restaurant_Review-g274887-d812731-Reviews-Passaret_Club_etterem-Budapest_Central_Hungary.html   \n",
       "\n",
       "         ID_TA  sample  ...    neu    pos  compound  nb_chars  nb_words  \\\n",
       "64524  d812731       1  ...  0.656  0.344    0.2732        21         5   \n",
       "\n",
       "       doc2vec_vector_0  doc2vec_vector_1  doc2vec_vector_2  doc2vec_vector_3  \\\n",
       "64524         -0.002717          0.038857          -0.01993          0.062872   \n",
       "\n",
       "       doc2vec_vector_4  \n",
       "64524          -0.06614  \n",
       "\n",
       "[1 rows x 23 columns]"
      ]
     },
     "execution_count": 21,
     "metadata": {},
     "output_type": "execute_result"
    }
   ],
   "source": [
    "# очищаем\n",
    "df[\"review_clean\"] = df['Reviews'].apply(lambda x: clean_text(x))\n",
    "\n",
    "# разбиваем на позитивные/негативные/нейтральные\n",
    "sid = SentimentIntensityAnalyzer()\n",
    "df[\"sentiments\"] = df[\"review_clean\"].apply(lambda x: sid.polarity_scores(x))\n",
    "df = pd.concat([df.drop(['sentiments'], axis=1), df['sentiments'].apply(pd.Series)], axis=1)\n",
    "\n",
    "# Количество символов\n",
    "df[\"nb_chars\"] = df[\"review_clean\"].apply(lambda x: len(x))\n",
    "\n",
    "# Количество слов\n",
    "df[\"nb_words\"] = df[\"review_clean\"].apply(lambda x: len(x.split(\" \")))\n",
    "\n",
    "documents = [TaggedDocument(doc, [i]) for i, doc in enumerate(df[\"review_clean\"].apply(lambda x: x.split(\" \")))]\n",
    "\n",
    "# Преобразование отзыва в вектор\n",
    "model = Doc2Vec(documents, vector_size=5, window=2, min_count=1, workers=4)\n",
    "doc2vec_df = df[\"review_clean\"].apply(lambda x: model.infer_vector(x.split(\" \"))).apply(pd.Series)\n",
    "doc2vec_df.columns = [\"doc2vec_vector_\" + str(x) for x in doc2vec_df.columns]\n",
    "df = pd.concat([df, doc2vec_df], axis=1)\n",
    "df.head(1)"
   ]
  },
  {
   "cell_type": "markdown",
   "metadata": {
    "cellId": "v96fg466hla9k6hyj6c71"
   },
   "source": [
    "#### Кухня"
   ]
  },
  {
   "cell_type": "code",
   "execution_count": 22,
   "metadata": {
    "cellId": "u5ftywhlurlg3tvy81bvfp"
   },
   "outputs": [
    {
     "data": {
      "text/html": [
       "<div>\n",
       "<style scoped>\n",
       "    .dataframe tbody tr th:only-of-type {\n",
       "        vertical-align: middle;\n",
       "    }\n",
       "\n",
       "    .dataframe tbody tr th {\n",
       "        vertical-align: top;\n",
       "    }\n",
       "\n",
       "    .dataframe thead th {\n",
       "        text-align: right;\n",
       "    }\n",
       "</style>\n",
       "<table border=\"1\" class=\"dataframe\">\n",
       "  <thead>\n",
       "    <tr style=\"text-align: right;\">\n",
       "      <th></th>\n",
       "      <th>Restaurant_id</th>\n",
       "      <th>City</th>\n",
       "      <th>Cuisine Style</th>\n",
       "      <th>Ranking</th>\n",
       "      <th>Price Range</th>\n",
       "      <th>Number of Reviews</th>\n",
       "      <th>Reviews</th>\n",
       "      <th>URL_TA</th>\n",
       "      <th>ID_TA</th>\n",
       "      <th>sample</th>\n",
       "      <th>...</th>\n",
       "      <th>neu</th>\n",
       "      <th>pos</th>\n",
       "      <th>compound</th>\n",
       "      <th>nb_chars</th>\n",
       "      <th>nb_words</th>\n",
       "      <th>doc2vec_vector_0</th>\n",
       "      <th>doc2vec_vector_1</th>\n",
       "      <th>doc2vec_vector_2</th>\n",
       "      <th>doc2vec_vector_3</th>\n",
       "      <th>doc2vec_vector_4</th>\n",
       "    </tr>\n",
       "  </thead>\n",
       "  <tbody>\n",
       "    <tr>\n",
       "      <th>64524</th>\n",
       "      <td>id_2384</td>\n",
       "      <td>Budapest</td>\n",
       "      <td>NaN</td>\n",
       "      <td>0.0</td>\n",
       "      <td>2.0</td>\n",
       "      <td>2.0</td>\n",
       "      <td>[['Not a place to go for eating..', 'used to be better'], ['05/11/2013', '02/21/2008']]</td>\n",
       "      <td>/Restaurant_Review-g274887-d812731-Reviews-Passaret_Club_etterem-Budapest_Central_Hungary.html</td>\n",
       "      <td>d812731</td>\n",
       "      <td>1</td>\n",
       "      <td>...</td>\n",
       "      <td>0.656</td>\n",
       "      <td>0.344</td>\n",
       "      <td>0.2732</td>\n",
       "      <td>21</td>\n",
       "      <td>5</td>\n",
       "      <td>-0.002717</td>\n",
       "      <td>0.038857</td>\n",
       "      <td>-0.01993</td>\n",
       "      <td>0.062872</td>\n",
       "      <td>-0.06614</td>\n",
       "    </tr>\n",
       "  </tbody>\n",
       "</table>\n",
       "<p>1 rows × 23 columns</p>\n",
       "</div>"
      ],
      "text/plain": [
       "      Restaurant_id      City  Cuisine Style  Ranking  Price Range  \\\n",
       "64524       id_2384  Budapest            NaN      0.0          2.0   \n",
       "\n",
       "       Number of Reviews  \\\n",
       "64524                2.0   \n",
       "\n",
       "                                                                                       Reviews  \\\n",
       "64524  [['Not a place to go for eating..', 'used to be better'], ['05/11/2013', '02/21/2008']]   \n",
       "\n",
       "                                                                                               URL_TA  \\\n",
       "64524  /Restaurant_Review-g274887-d812731-Reviews-Passaret_Club_etterem-Budapest_Central_Hungary.html   \n",
       "\n",
       "         ID_TA  sample  ...    neu    pos  compound  nb_chars  nb_words  \\\n",
       "64524  d812731       1  ...  0.656  0.344    0.2732        21         5   \n",
       "\n",
       "       doc2vec_vector_0  doc2vec_vector_1  doc2vec_vector_2  doc2vec_vector_3  \\\n",
       "64524         -0.002717          0.038857          -0.01993          0.062872   \n",
       "\n",
       "       doc2vec_vector_4  \n",
       "64524          -0.06614  \n",
       "\n",
       "[1 rows x 23 columns]"
      ]
     },
     "execution_count": 22,
     "metadata": {},
     "output_type": "execute_result"
    }
   ],
   "source": [
    "label_encoder = LabelEncoder()\n",
    "\n",
    "df['Cuisine Style'] = df['Cuisine Style'].apply(lambda x: clean_text(x))\n",
    "df['Cuisine Style'] = df['Cuisine Style'].str.split(' ').tolist()\n",
    "df = df.explode('Cuisine Style')\n",
    "df['Cuisine Style'] = pd.Series(label_encoder.fit_transform(df['Cuisine Style']))\n",
    "df.head(1)"
   ]
  },
  {
   "cell_type": "markdown",
   "metadata": {
    "cellId": "9egl9ley5uotqimb41jmf"
   },
   "source": [
    "#### Город"
   ]
  },
  {
   "cell_type": "code",
   "execution_count": 23,
   "metadata": {
    "cellId": "di5k5dm5wnv2d74evn9sn8"
   },
   "outputs": [
    {
     "data": {
      "text/html": [
       "<div>\n",
       "<style scoped>\n",
       "    .dataframe tbody tr th:only-of-type {\n",
       "        vertical-align: middle;\n",
       "    }\n",
       "\n",
       "    .dataframe tbody tr th {\n",
       "        vertical-align: top;\n",
       "    }\n",
       "\n",
       "    .dataframe thead th {\n",
       "        text-align: right;\n",
       "    }\n",
       "</style>\n",
       "<table border=\"1\" class=\"dataframe\">\n",
       "  <thead>\n",
       "    <tr style=\"text-align: right;\">\n",
       "      <th></th>\n",
       "      <th>Restaurant_id</th>\n",
       "      <th>City</th>\n",
       "      <th>Cuisine Style</th>\n",
       "      <th>Ranking</th>\n",
       "      <th>Price Range</th>\n",
       "      <th>Number of Reviews</th>\n",
       "      <th>Reviews</th>\n",
       "      <th>URL_TA</th>\n",
       "      <th>ID_TA</th>\n",
       "      <th>sample</th>\n",
       "      <th>...</th>\n",
       "      <th>compound</th>\n",
       "      <th>nb_chars</th>\n",
       "      <th>nb_words</th>\n",
       "      <th>doc2vec_vector_0</th>\n",
       "      <th>doc2vec_vector_1</th>\n",
       "      <th>doc2vec_vector_2</th>\n",
       "      <th>doc2vec_vector_3</th>\n",
       "      <th>doc2vec_vector_4</th>\n",
       "      <th>Population</th>\n",
       "      <th>Country</th>\n",
       "    </tr>\n",
       "  </thead>\n",
       "  <tbody>\n",
       "    <tr>\n",
       "      <th>0</th>\n",
       "      <td>id_2384</td>\n",
       "      <td>2</td>\n",
       "      <td>NaN</td>\n",
       "      <td>0.0</td>\n",
       "      <td>2.0</td>\n",
       "      <td>2.0</td>\n",
       "      <td>[['Not a place to go for eating..', 'used to be better'], ['05/11/2013', '02/21/2008']]</td>\n",
       "      <td>/Restaurant_Review-g274887-d812731-Reviews-Passaret_Club_etterem-Budapest_Central_Hungary.html</td>\n",
       "      <td>d812731</td>\n",
       "      <td>1</td>\n",
       "      <td>...</td>\n",
       "      <td>0.2732</td>\n",
       "      <td>21</td>\n",
       "      <td>5</td>\n",
       "      <td>-0.002717</td>\n",
       "      <td>0.038857</td>\n",
       "      <td>-0.01993</td>\n",
       "      <td>0.062872</td>\n",
       "      <td>-0.06614</td>\n",
       "      <td>1708088.0</td>\n",
       "      <td>8</td>\n",
       "    </tr>\n",
       "  </tbody>\n",
       "</table>\n",
       "<p>1 rows × 25 columns</p>\n",
       "</div>"
      ],
      "text/plain": [
       "  Restaurant_id  City  Cuisine Style  Ranking  Price Range  Number of Reviews  \\\n",
       "0       id_2384     2            NaN      0.0          2.0                2.0   \n",
       "\n",
       "                                                                                   Reviews  \\\n",
       "0  [['Not a place to go for eating..', 'used to be better'], ['05/11/2013', '02/21/2008']]   \n",
       "\n",
       "                                                                                           URL_TA  \\\n",
       "0  /Restaurant_Review-g274887-d812731-Reviews-Passaret_Club_etterem-Budapest_Central_Hungary.html   \n",
       "\n",
       "     ID_TA  sample  ...  compound nb_chars  nb_words  doc2vec_vector_0  \\\n",
       "0  d812731       1  ...    0.2732       21         5         -0.002717   \n",
       "\n",
       "   doc2vec_vector_1  doc2vec_vector_2  doc2vec_vector_3  doc2vec_vector_4  \\\n",
       "0          0.038857          -0.01993          0.062872          -0.06614   \n",
       "\n",
       "   Population  Country  \n",
       "0   1708088.0        8  \n",
       "\n",
       "[1 rows x 25 columns]"
      ]
     },
     "execution_count": 23,
     "metadata": {},
     "output_type": "execute_result"
    }
   ],
   "source": [
    "df['City'] = df['City'].str.lower()\n",
    "df = df.merge(cities[['City','Population','Country']], on = 'City', how = 'left')\n",
    "df['Population'] = df['Population'].fillna(1)\n",
    "df['Country'] = df['Country'].fillna('not found')\n",
    "df['Country'] = pd.Series(label_encoder.fit_transform(df['Country']))\n",
    "df['City'] = pd.Series(label_encoder.fit_transform(df['City']))\n",
    "\n",
    "df.head(1)"
   ]
  },
  {
   "cell_type": "markdown",
   "metadata": {
    "cellId": "8ze1cc00ir8p5rntcz6cpj"
   },
   "source": [
    "#### Очищаем от старых колонок"
   ]
  },
  {
   "cell_type": "code",
   "execution_count": 24,
   "metadata": {
    "cellId": "kiqhysi1vbrhl8g2wmc39r"
   },
   "outputs": [
    {
     "data": {
      "text/html": [
       "<div>\n",
       "<style scoped>\n",
       "    .dataframe tbody tr th:only-of-type {\n",
       "        vertical-align: middle;\n",
       "    }\n",
       "\n",
       "    .dataframe tbody tr th {\n",
       "        vertical-align: top;\n",
       "    }\n",
       "\n",
       "    .dataframe thead th {\n",
       "        text-align: right;\n",
       "    }\n",
       "</style>\n",
       "<table border=\"1\" class=\"dataframe\">\n",
       "  <thead>\n",
       "    <tr style=\"text-align: right;\">\n",
       "      <th></th>\n",
       "      <th>City</th>\n",
       "      <th>Cuisine Style</th>\n",
       "      <th>Ranking</th>\n",
       "      <th>Price Range</th>\n",
       "      <th>Number of Reviews</th>\n",
       "      <th>sample</th>\n",
       "      <th>Rating</th>\n",
       "      <th>neg</th>\n",
       "      <th>neu</th>\n",
       "      <th>pos</th>\n",
       "      <th>compound</th>\n",
       "      <th>nb_chars</th>\n",
       "      <th>nb_words</th>\n",
       "      <th>doc2vec_vector_0</th>\n",
       "      <th>doc2vec_vector_1</th>\n",
       "      <th>doc2vec_vector_2</th>\n",
       "      <th>doc2vec_vector_3</th>\n",
       "      <th>doc2vec_vector_4</th>\n",
       "      <th>Population</th>\n",
       "      <th>Country</th>\n",
       "    </tr>\n",
       "  </thead>\n",
       "  <tbody>\n",
       "    <tr>\n",
       "      <th>0</th>\n",
       "      <td>2</td>\n",
       "      <td>NaN</td>\n",
       "      <td>0.0</td>\n",
       "      <td>2.0</td>\n",
       "      <td>2.0</td>\n",
       "      <td>1</td>\n",
       "      <td>1.5</td>\n",
       "      <td>0.0</td>\n",
       "      <td>0.656</td>\n",
       "      <td>0.344</td>\n",
       "      <td>0.2732</td>\n",
       "      <td>21</td>\n",
       "      <td>5</td>\n",
       "      <td>-0.002717</td>\n",
       "      <td>0.038857</td>\n",
       "      <td>-0.01993</td>\n",
       "      <td>0.062872</td>\n",
       "      <td>-0.06614</td>\n",
       "      <td>1708088.0</td>\n",
       "      <td>8</td>\n",
       "    </tr>\n",
       "    <tr>\n",
       "      <th>1</th>\n",
       "      <td>2</td>\n",
       "      <td>NaN</td>\n",
       "      <td>0.0</td>\n",
       "      <td>2.0</td>\n",
       "      <td>2.0</td>\n",
       "      <td>1</td>\n",
       "      <td>1.5</td>\n",
       "      <td>0.0</td>\n",
       "      <td>0.656</td>\n",
       "      <td>0.344</td>\n",
       "      <td>0.2732</td>\n",
       "      <td>21</td>\n",
       "      <td>5</td>\n",
       "      <td>-0.002717</td>\n",
       "      <td>0.038857</td>\n",
       "      <td>-0.01993</td>\n",
       "      <td>0.062872</td>\n",
       "      <td>-0.06614</td>\n",
       "      <td>1708088.0</td>\n",
       "      <td>8</td>\n",
       "    </tr>\n",
       "  </tbody>\n",
       "</table>\n",
       "</div>"
      ],
      "text/plain": [
       "   City  Cuisine Style  Ranking  Price Range  Number of Reviews  sample  \\\n",
       "0     2            NaN      0.0          2.0                2.0       1   \n",
       "1     2            NaN      0.0          2.0                2.0       1   \n",
       "\n",
       "   Rating  neg    neu    pos  compound  nb_chars  nb_words  doc2vec_vector_0  \\\n",
       "0     1.5  0.0  0.656  0.344    0.2732        21         5         -0.002717   \n",
       "1     1.5  0.0  0.656  0.344    0.2732        21         5         -0.002717   \n",
       "\n",
       "   doc2vec_vector_1  doc2vec_vector_2  doc2vec_vector_3  doc2vec_vector_4  \\\n",
       "0          0.038857          -0.01993          0.062872          -0.06614   \n",
       "1          0.038857          -0.01993          0.062872          -0.06614   \n",
       "\n",
       "   Population  Country  \n",
       "0   1708088.0        8  \n",
       "1   1708088.0        8  "
      ]
     },
     "execution_count": 24,
     "metadata": {},
     "output_type": "execute_result"
    }
   ],
   "source": [
    "df = df.drop(['Reviews', 'URL_TA','Restaurant_id','review_clean','ID_TA'], axis=1) \n",
    "df.head(2)"
   ]
  },
  {
   "cell_type": "markdown",
   "metadata": {
    "cellId": "iiqfwn20d8umkl4hhlh8"
   },
   "source": [
    "# EDA "
   ]
  },
  {
   "cell_type": "markdown",
   "metadata": {
    "cellId": "0koz3e8zuzleeol7zzkts4"
   },
   "source": [
    "### [корреляция признаков](https://ru.wikipedia.org/wiki/Корреляция)"
   ]
  },
  {
   "cell_type": "markdown",
   "metadata": {
    "cellId": "uzfld77ljxlzchl3ih22k"
   },
   "source": [
    "График корреляции для показателей от |0.05|"
   ]
  },
  {
   "cell_type": "code",
   "execution_count": 25,
   "metadata": {
    "cellId": "vov82lw2cgcitnlpevi27c"
   },
   "outputs": [
    {
     "data": {
      "text/plain": [
       "<matplotlib.axes._subplots.AxesSubplot at 0x16cab53a7c8>"
      ]
     },
     "execution_count": 25,
     "metadata": {},
     "output_type": "execute_result"
    },
    {
     "data": {
      "image/png": "[encoded data removed]",
      "text/plain": [
       "<Figure size 792x648 with 2 Axes>"
      ]
     },
     "metadata": {
      "needs_background": "light"
     },
     "output_type": "display_data"
    }
   ],
   "source": [
    "cor = df.corr()\n",
    "cor_target = abs(cor['Rating'])\n",
    "relevant_features = cor_target[(cor_target>0.05)|(cor_target<-0.05)].index\n",
    "corr = df[relevant_features].corr()\n",
    "\n",
    "mask = np.triu(np.ones_like(corr, dtype=bool))\n",
    "f, ax = plt.subplots(figsize=(11, 9))\n",
    "sns.heatmap(corr, mask=mask, vmax=0.7, center=0,\n",
    "            square=True, linewidths=.5 ,annot =True)"
   ]
  },
  {
   "cell_type": "markdown",
   "metadata": {
    "cellId": "kz3pj428gybgy3o8gkv1vb"
   },
   "source": [
    "# Data Preprocessing\n",
    "Теперь, для удобства и воспроизводимости кода, завернем всю обработку в одну большую функцию."
   ]
  },
  {
   "cell_type": "code",
   "execution_count": 27,
   "metadata": {
    "cellId": "7n7rnupof9ayzoyycg1ca"
   },
   "outputs": [],
   "source": [
    "# на всякий случай, заново подгружаем данные\n",
    "df_train = pd.read_csv(DATA_DIR+'/main_task.csv')\n",
    "df_test = pd.read_csv(DATA_DIR+'/kaggle_task.csv')\n",
    "cities = pd.read_csv(DATA_DIR+'/cities.csv')\n",
    "\n",
    "df_new = pd.read_csv(DATA_DIR+'/TA_restaurants_curated.csv')\n",
    "df_new['Restaurant_id'] = \"id_\" +df_new['Unnamed: 0'].astype(str)\n",
    "df_new = df_new[~(df_new['Rating'].isna())]\n",
    "df_new = df_new[~df_new['URL_TA'].isin(df_train['URL_TA'])]\n",
    "df_new = df_new[['Restaurant_id', 'City', 'Cuisine Style', 'Ranking', 'Rating',\n",
    "       'Price Range', 'Number of Reviews', 'Reviews', 'URL_TA', 'ID_TA']]\n",
    "\n",
    "df_train = df_train.append(df_new)\n",
    "df_train.drop_duplicates(keep ='first',subset = 'URL_TA',inplace = True)"
   ]
  },
  {
   "cell_type": "code",
   "execution_count": 28,
   "metadata": {},
   "outputs": [],
   "source": [
    "df_train['sample'] = 1 # помечаем где у нас трейн\n",
    "df_test['sample'] = 0 # помечаем где у нас тест\n",
    "df_test['Rating'] = 0 # в тесте у нас нет значения Rating, мы его должны предсказать, по этому пока просто заполняем нулями\n",
    "\n",
    "data = df_test.append(df_train, sort=False).reset_index(drop=True) # объединяем"
   ]
  },
  {
   "cell_type": "code",
   "execution_count": 29,
   "metadata": {
    "cellId": "zvlbv2rys5osiad1tnqu0k"
   },
   "outputs": [],
   "source": [
    "#!M\n",
    "def preproc_data(df_input):\n",
    "    '''includes several functions to pre-process the predictor data.'''\n",
    "    \n",
    "    df = df_input.copy()\n",
    "    \n",
    "    # ################### 1. Предобработка ############################################################## \n",
    "    # убираем не нужные для модели признаки и добавляем городам население и страну\n",
    "    df.drop(['Restaurant_id','ID_TA',], axis = 1, inplace=True)\n",
    "    \n",
    "    df['City'] = df['City'].str.lower()\n",
    "    df = df.merge(cities[['City','Population','Country']], on = 'City', how = 'left')\n",
    "    df['Population'] = df['Population'].fillna(df['Population'].mean())\n",
    "    df['Country'] = df['Country'].fillna('not found')\n",
    "    \n",
    "    \n",
    "    # ################### 2. NAN ############################################################## \n",
    "    # Далее заполняем пропуски, вы можете попробовать заполнением средним или средним по городу и тд...\n",
    "    # тут ваш код по обработке NAN\n",
    "    #df[['Ranking','Number of Reviews','Price Range','Cuisine Style','URL_TA']] = df[['Ranking','Number of Reviews','Price Range','Cuisine Style','URL_TA']].apply(get_na,axis=1)\n",
    "    df['Cuisine Style'].fillna('Other', inplace=True)\n",
    "    df['Price Range'].fillna('$$ - $$$', inplace=True)\n",
    "    df['Number of Reviews'].fillna(0, inplace=True)\n",
    "    df['Ranking'].fillna(0, inplace=True)\n",
    "    \n",
    "    # ################### 3. Feature Engineering ####################################################\n",
    "    # Очищаем отзывы\n",
    "    df[\"review_clean\"] = df['Reviews'].apply(lambda x: clean_text(str(x)))\n",
    "    sid = SentimentIntensityAnalyzer()\n",
    "    df[\"sentiments\"] = df[\"review_clean\"].apply(lambda x: sid.polarity_scores(x))\n",
    "    df = pd.concat([df.drop(['sentiments'], axis=1), df['sentiments'].apply(pd.Series)], axis=1)\n",
    "    df[\"nb_chars\"] = df[\"review_clean\"].apply(lambda x: len(x))\n",
    "    df[\"nb_words\"] = df[\"review_clean\"].apply(lambda x: len(x.split(\" \")))\n",
    "    documents = [TaggedDocument(doc, [i]) for i, doc in enumerate(df[\"review_clean\"].apply(lambda x: x.split(\" \")))]\n",
    "    model = Doc2Vec(documents, vector_size=5, window=2, min_count=1, workers=4)\n",
    "    doc2vec_df = df[\"review_clean\"].apply(lambda x: model.infer_vector(x.split(\" \"))).apply(pd.Series)\n",
    "    doc2vec_df.columns = [\"doc2vec_vector_\" + str(x) for x in doc2vec_df.columns]\n",
    "    df = pd.concat([df, doc2vec_df], axis=1)\n",
    "    \n",
    "    # Разделяем кухню\n",
    "    df['Cuisine Style'] = df['Cuisine Style'].apply(lambda x: clean_text(x))\n",
    "    df['Cuisine Style'] = df['Cuisine Style'].str.split(' ').tolist()\n",
    "    df = df.explode('Cuisine Style')\n",
    "    \n",
    "    # ################### 4. Encoding ############################################################## \n",
    "    # Кодируем кухню, страну, город\n",
    "    df['Price Range'].replace(price_dict, inplace=True)\n",
    "    df['Cuisine Style'] = pd.Series(label_encoder.fit_transform(df['Cuisine Style']))\n",
    "    df['Country'] = pd.Series(label_encoder.fit_transform(df['Country']))\n",
    "    df['City'] = pd.Series(label_encoder.fit_transform(df['City']))\n",
    "    \n",
    "    # ################### 5. Clean #################################################### \n",
    "    # убираем нечисловые признаки\n",
    "    df = df.drop(['Reviews','review_clean','URL_TA'], axis=1) \n",
    "    df = df.dropna() #на всякий\n",
    "    \n",
    "    return df"
   ]
  },
  {
   "cell_type": "markdown",
   "metadata": {
    "cellId": "4hxhf7478syh2ue3s4nr16"
   },
   "source": [
    "#### Запускаем и проверяем что получилось"
   ]
  },
  {
   "cell_type": "code",
   "execution_count": 30,
   "metadata": {
    "cellId": "sjl3l44j1319qw7ravjan"
   },
   "outputs": [
    {
     "data": {
      "text/html": [
       "<div>\n",
       "<style scoped>\n",
       "    .dataframe tbody tr th:only-of-type {\n",
       "        vertical-align: middle;\n",
       "    }\n",
       "\n",
       "    .dataframe tbody tr th {\n",
       "        vertical-align: top;\n",
       "    }\n",
       "\n",
       "    .dataframe thead th {\n",
       "        text-align: right;\n",
       "    }\n",
       "</style>\n",
       "<table border=\"1\" class=\"dataframe\">\n",
       "  <thead>\n",
       "    <tr style=\"text-align: right;\">\n",
       "      <th></th>\n",
       "      <th>City</th>\n",
       "      <th>Cuisine Style</th>\n",
       "      <th>Ranking</th>\n",
       "      <th>Price Range</th>\n",
       "      <th>Number of Reviews</th>\n",
       "      <th>sample</th>\n",
       "      <th>Rating</th>\n",
       "      <th>Population</th>\n",
       "      <th>Country</th>\n",
       "      <th>neg</th>\n",
       "      <th>neu</th>\n",
       "      <th>pos</th>\n",
       "      <th>compound</th>\n",
       "      <th>nb_chars</th>\n",
       "      <th>nb_words</th>\n",
       "      <th>doc2vec_vector_0</th>\n",
       "      <th>doc2vec_vector_1</th>\n",
       "      <th>doc2vec_vector_2</th>\n",
       "      <th>doc2vec_vector_3</th>\n",
       "      <th>doc2vec_vector_4</th>\n",
       "    </tr>\n",
       "  </thead>\n",
       "  <tbody>\n",
       "    <tr>\n",
       "      <th>315967</th>\n",
       "      <td>19</td>\n",
       "      <td>79</td>\n",
       "      <td>9218.0</td>\n",
       "      <td>2</td>\n",
       "      <td>5.0</td>\n",
       "      <td>1</td>\n",
       "      <td>4.5</td>\n",
       "      <td>2110694.0</td>\n",
       "      <td>21</td>\n",
       "      <td>0.0</td>\n",
       "      <td>0.000</td>\n",
       "      <td>0.000</td>\n",
       "      <td>0.0000</td>\n",
       "      <td>0</td>\n",
       "      <td>1</td>\n",
       "      <td>0.022297</td>\n",
       "      <td>0.044242</td>\n",
       "      <td>0.022600</td>\n",
       "      <td>0.016340</td>\n",
       "      <td>0.009851</td>\n",
       "    </tr>\n",
       "    <tr>\n",
       "      <th>201999</th>\n",
       "      <td>24</td>\n",
       "      <td>89</td>\n",
       "      <td>7.0</td>\n",
       "      <td>2</td>\n",
       "      <td>326.0</td>\n",
       "      <td>1</td>\n",
       "      <td>4.5</td>\n",
       "      <td>38805.0</td>\n",
       "      <td>29</td>\n",
       "      <td>0.0</td>\n",
       "      <td>0.341</td>\n",
       "      <td>0.659</td>\n",
       "      <td>0.7003</td>\n",
       "      <td>26</td>\n",
       "      <td>5</td>\n",
       "      <td>-0.094494</td>\n",
       "      <td>0.034923</td>\n",
       "      <td>-0.047504</td>\n",
       "      <td>0.002573</td>\n",
       "      <td>-0.033199</td>\n",
       "    </tr>\n",
       "    <tr>\n",
       "      <th>60527</th>\n",
       "      <td>3</td>\n",
       "      <td>50</td>\n",
       "      <td>2106.0</td>\n",
       "      <td>2</td>\n",
       "      <td>2.0</td>\n",
       "      <td>1</td>\n",
       "      <td>2.0</td>\n",
       "      <td>1651676.0</td>\n",
       "      <td>29</td>\n",
       "      <td>0.0</td>\n",
       "      <td>0.000</td>\n",
       "      <td>0.000</td>\n",
       "      <td>0.0000</td>\n",
       "      <td>0</td>\n",
       "      <td>1</td>\n",
       "      <td>0.012723</td>\n",
       "      <td>0.041442</td>\n",
       "      <td>0.030457</td>\n",
       "      <td>0.020634</td>\n",
       "      <td>0.011199</td>\n",
       "    </tr>\n",
       "    <tr>\n",
       "      <th>75468</th>\n",
       "      <td>26</td>\n",
       "      <td>47</td>\n",
       "      <td>1473.0</td>\n",
       "      <td>2</td>\n",
       "      <td>45.0</td>\n",
       "      <td>1</td>\n",
       "      <td>3.5</td>\n",
       "      <td>1733846.0</td>\n",
       "      <td>29</td>\n",
       "      <td>0.0</td>\n",
       "      <td>0.450</td>\n",
       "      <td>0.550</td>\n",
       "      <td>0.7269</td>\n",
       "      <td>46</td>\n",
       "      <td>7</td>\n",
       "      <td>-0.153413</td>\n",
       "      <td>0.006855</td>\n",
       "      <td>0.001467</td>\n",
       "      <td>-0.130649</td>\n",
       "      <td>-0.007381</td>\n",
       "    </tr>\n",
       "    <tr>\n",
       "      <th>92298</th>\n",
       "      <td>2</td>\n",
       "      <td>112</td>\n",
       "      <td>1693.0</td>\n",
       "      <td>2</td>\n",
       "      <td>277.0</td>\n",
       "      <td>1</td>\n",
       "      <td>4.0</td>\n",
       "      <td>27022.0</td>\n",
       "      <td>21</td>\n",
       "      <td>0.0</td>\n",
       "      <td>0.341</td>\n",
       "      <td>0.659</td>\n",
       "      <td>0.7003</td>\n",
       "      <td>39</td>\n",
       "      <td>5</td>\n",
       "      <td>-0.066375</td>\n",
       "      <td>0.012950</td>\n",
       "      <td>0.028512</td>\n",
       "      <td>0.081893</td>\n",
       "      <td>-0.056704</td>\n",
       "    </tr>\n",
       "    <tr>\n",
       "      <th>299580</th>\n",
       "      <td>24</td>\n",
       "      <td>69</td>\n",
       "      <td>5028.0</td>\n",
       "      <td>1</td>\n",
       "      <td>35.0</td>\n",
       "      <td>1</td>\n",
       "      <td>4.5</td>\n",
       "      <td>10437.0</td>\n",
       "      <td>10</td>\n",
       "      <td>0.0</td>\n",
       "      <td>0.543</td>\n",
       "      <td>0.457</td>\n",
       "      <td>0.6369</td>\n",
       "      <td>42</td>\n",
       "      <td>6</td>\n",
       "      <td>-0.034755</td>\n",
       "      <td>0.020308</td>\n",
       "      <td>-0.093349</td>\n",
       "      <td>0.020250</td>\n",
       "      <td>0.021362</td>\n",
       "    </tr>\n",
       "    <tr>\n",
       "      <th>119714</th>\n",
       "      <td>26</td>\n",
       "      <td>79</td>\n",
       "      <td>4936.0</td>\n",
       "      <td>2</td>\n",
       "      <td>37.0</td>\n",
       "      <td>1</td>\n",
       "      <td>4.0</td>\n",
       "      <td>9587.0</td>\n",
       "      <td>29</td>\n",
       "      <td>0.0</td>\n",
       "      <td>0.000</td>\n",
       "      <td>0.000</td>\n",
       "      <td>0.0000</td>\n",
       "      <td>0</td>\n",
       "      <td>1</td>\n",
       "      <td>0.009763</td>\n",
       "      <td>0.043038</td>\n",
       "      <td>0.020553</td>\n",
       "      <td>0.008977</td>\n",
       "      <td>-0.015269</td>\n",
       "    </tr>\n",
       "    <tr>\n",
       "      <th>338054</th>\n",
       "      <td>19</td>\n",
       "      <td>93</td>\n",
       "      <td>295.0</td>\n",
       "      <td>2</td>\n",
       "      <td>310.0</td>\n",
       "      <td>1</td>\n",
       "      <td>4.5</td>\n",
       "      <td>2643736.0</td>\n",
       "      <td>4</td>\n",
       "      <td>0.0</td>\n",
       "      <td>0.300</td>\n",
       "      <td>0.700</td>\n",
       "      <td>0.7906</td>\n",
       "      <td>28</td>\n",
       "      <td>5</td>\n",
       "      <td>-0.016053</td>\n",
       "      <td>-0.064855</td>\n",
       "      <td>0.007412</td>\n",
       "      <td>0.063633</td>\n",
       "      <td>-0.056605</td>\n",
       "    </tr>\n",
       "    <tr>\n",
       "      <th>184737</th>\n",
       "      <td>24</td>\n",
       "      <td>0</td>\n",
       "      <td>1855.0</td>\n",
       "      <td>2</td>\n",
       "      <td>5.0</td>\n",
       "      <td>1</td>\n",
       "      <td>5.0</td>\n",
       "      <td>11313.0</td>\n",
       "      <td>29</td>\n",
       "      <td>0.0</td>\n",
       "      <td>0.392</td>\n",
       "      <td>0.608</td>\n",
       "      <td>0.7351</td>\n",
       "      <td>40</td>\n",
       "      <td>6</td>\n",
       "      <td>0.054219</td>\n",
       "      <td>-0.102181</td>\n",
       "      <td>0.068660</td>\n",
       "      <td>0.131235</td>\n",
       "      <td>-0.000286</td>\n",
       "    </tr>\n",
       "    <tr>\n",
       "      <th>228060</th>\n",
       "      <td>3</td>\n",
       "      <td>127</td>\n",
       "      <td>4296.0</td>\n",
       "      <td>2</td>\n",
       "      <td>159.0</td>\n",
       "      <td>1</td>\n",
       "      <td>3.5</td>\n",
       "      <td>346774.0</td>\n",
       "      <td>6</td>\n",
       "      <td>0.0</td>\n",
       "      <td>0.338</td>\n",
       "      <td>0.662</td>\n",
       "      <td>0.8316</td>\n",
       "      <td>63</td>\n",
       "      <td>9</td>\n",
       "      <td>0.071908</td>\n",
       "      <td>-0.013148</td>\n",
       "      <td>-0.017306</td>\n",
       "      <td>0.052039</td>\n",
       "      <td>-0.090663</td>\n",
       "    </tr>\n",
       "  </tbody>\n",
       "</table>\n",
       "</div>"
      ],
      "text/plain": [
       "        City  Cuisine Style  Ranking  Price Range  Number of Reviews  sample  \\\n",
       "315967    19             79   9218.0            2                5.0       1   \n",
       "201999    24             89      7.0            2              326.0       1   \n",
       "60527      3             50   2106.0            2                2.0       1   \n",
       "75468     26             47   1473.0            2               45.0       1   \n",
       "92298      2            112   1693.0            2              277.0       1   \n",
       "299580    24             69   5028.0            1               35.0       1   \n",
       "119714    26             79   4936.0            2               37.0       1   \n",
       "338054    19             93    295.0            2              310.0       1   \n",
       "184737    24              0   1855.0            2                5.0       1   \n",
       "228060     3            127   4296.0            2              159.0       1   \n",
       "\n",
       "        Rating  Population  Country  neg    neu    pos  compound  nb_chars  \\\n",
       "315967     4.5   2110694.0       21  0.0  0.000  0.000    0.0000         0   \n",
       "201999     4.5     38805.0       29  0.0  0.341  0.659    0.7003        26   \n",
       "60527      2.0   1651676.0       29  0.0  0.000  0.000    0.0000         0   \n",
       "75468      3.5   1733846.0       29  0.0  0.450  0.550    0.7269        46   \n",
       "92298      4.0     27022.0       21  0.0  0.341  0.659    0.7003        39   \n",
       "299580     4.5     10437.0       10  0.0  0.543  0.457    0.6369        42   \n",
       "119714     4.0      9587.0       29  0.0  0.000  0.000    0.0000         0   \n",
       "338054     4.5   2643736.0        4  0.0  0.300  0.700    0.7906        28   \n",
       "184737     5.0     11313.0       29  0.0  0.392  0.608    0.7351        40   \n",
       "228060     3.5    346774.0        6  0.0  0.338  0.662    0.8316        63   \n",
       "\n",
       "        nb_words  doc2vec_vector_0  doc2vec_vector_1  doc2vec_vector_2  \\\n",
       "315967         1          0.022297          0.044242          0.022600   \n",
       "201999         5         -0.094494          0.034923         -0.047504   \n",
       "60527          1          0.012723          0.041442          0.030457   \n",
       "75468          7         -0.153413          0.006855          0.001467   \n",
       "92298          5         -0.066375          0.012950          0.028512   \n",
       "299580         6         -0.034755          0.020308         -0.093349   \n",
       "119714         1          0.009763          0.043038          0.020553   \n",
       "338054         5         -0.016053         -0.064855          0.007412   \n",
       "184737         6          0.054219         -0.102181          0.068660   \n",
       "228060         9          0.071908         -0.013148         -0.017306   \n",
       "\n",
       "        doc2vec_vector_3  doc2vec_vector_4  \n",
       "315967          0.016340          0.009851  \n",
       "201999          0.002573         -0.033199  \n",
       "60527           0.020634          0.011199  \n",
       "75468          -0.130649         -0.007381  \n",
       "92298           0.081893         -0.056704  \n",
       "299580          0.020250          0.021362  \n",
       "119714          0.008977         -0.015269  \n",
       "338054          0.063633         -0.056605  \n",
       "184737          0.131235         -0.000286  \n",
       "228060          0.052039         -0.090663  "
      ]
     },
     "execution_count": 30,
     "metadata": {},
     "output_type": "execute_result"
    }
   ],
   "source": [
    "df_preproc = preproc_data(data)\n",
    "df_preproc.sample(10)"
   ]
  },
  {
   "cell_type": "code",
   "execution_count": 31,
   "metadata": {
    "cellId": "rvtmx65ffwd8pqca3c6v"
   },
   "outputs": [
    {
     "name": "stdout",
     "output_type": "stream",
     "text": [
      "<class 'pandas.core.frame.DataFrame'>\n",
      "Int64Index: 1159088 entries, 0 to 361468\n",
      "Data columns (total 20 columns):\n",
      " #   Column             Non-Null Count    Dtype  \n",
      "---  ------             --------------    -----  \n",
      " 0   City               1159088 non-null  int32  \n",
      " 1   Cuisine Style      1159088 non-null  int32  \n",
      " 2   Ranking            1159088 non-null  float64\n",
      " 3   Price Range        1159088 non-null  int64  \n",
      " 4   Number of Reviews  1159088 non-null  float64\n",
      " 5   sample             1159088 non-null  int64  \n",
      " 6   Rating             1159088 non-null  float64\n",
      " 7   Population         1159088 non-null  float64\n",
      " 8   Country            1159088 non-null  int32  \n",
      " 9   neg                1159088 non-null  float64\n",
      " 10  neu                1159088 non-null  float64\n",
      " 11  pos                1159088 non-null  float64\n",
      " 12  compound           1159088 non-null  float64\n",
      " 13  nb_chars           1159088 non-null  int64  \n",
      " 14  nb_words           1159088 non-null  int64  \n",
      " 15  doc2vec_vector_0   1159088 non-null  float32\n",
      " 16  doc2vec_vector_1   1159088 non-null  float32\n",
      " 17  doc2vec_vector_2   1159088 non-null  float32\n",
      " 18  doc2vec_vector_3   1159088 non-null  float32\n",
      " 19  doc2vec_vector_4   1159088 non-null  float32\n",
      "dtypes: float32(5), float64(8), int32(3), int64(4)\n",
      "memory usage: 150.3 MB\n"
     ]
    }
   ],
   "source": [
    "df_preproc.info()"
   ]
  },
  {
   "cell_type": "code",
   "execution_count": 32,
   "metadata": {
    "cellId": "kc3c4li5dp9yuvuxo6ehk"
   },
   "outputs": [],
   "source": [
    "# Теперь выделим тестовую часть\n",
    "train_data = df_preproc.query('sample == 1').drop(['sample'], axis=1)\n",
    "test_data = df_preproc.query('sample == 0').drop(['sample'], axis=1)\n",
    "\n",
    "y = train_data.Rating.values            # наш таргет\n",
    "X = train_data.drop(['Rating'], axis=1)"
   ]
  },
  {
   "cell_type": "markdown",
   "metadata": {
    "cellId": "13ogyqeqa58em9laecq2xi"
   },
   "source": [
    "**Перед тем как отправлять наши данные на обучение, разделим данные на еще один тест и трейн, для валидации. \n",
    "Это поможет нам проверить, как хорошо наша модель работает, до отправки submissiona на kaggle.**"
   ]
  },
  {
   "cell_type": "code",
   "execution_count": 33,
   "metadata": {
    "cellId": "ojj01epecxgfkn9naaqku"
   },
   "outputs": [],
   "source": [
    "# Воспользуемся специальной функцие train_test_split для разбивки тестовых данных\n",
    "# выделим 20% данных на валидацию (параметр test_size)\n",
    "X_train, X_test, y_train, y_test = train_test_split(X, y, test_size=0.2, random_state=RANDOM_SEED)"
   ]
  },
  {
   "cell_type": "code",
   "execution_count": 34,
   "metadata": {
    "cellId": "obvpzrqzzx70kysdmyefd"
   },
   "outputs": [
    {
     "data": {
      "text/plain": [
       "((92468, 19), (1066620, 19), (1066620, 18), (853296, 18), (213324, 18))"
      ]
     },
     "execution_count": 34,
     "metadata": {},
     "output_type": "execute_result"
    }
   ],
   "source": [
    "# проверяем\n",
    "test_data.shape, train_data.shape, X.shape, X_train.shape, X_test.shape"
   ]
  },
  {
   "cell_type": "markdown",
   "metadata": {
    "cellId": "6zuggrul0pv9uc3zxffyo"
   },
   "source": [
    "# Model \n",
    "Сам ML"
   ]
  },
  {
   "cell_type": "code",
   "execution_count": 35,
   "metadata": {
    "cellId": "cd04pa68v86xjke4qf9u2r"
   },
   "outputs": [],
   "source": [
    "# Импортируем необходимые библиотеки:\n",
    "from sklearn.ensemble import RandomForestRegressor # инструмент для создания и обучения модели\n",
    "from sklearn import metrics # инструменты для оценки точности модели"
   ]
  },
  {
   "cell_type": "code",
   "execution_count": 36,
   "metadata": {
    "cellId": "5weq73tja4r3rycza9gqq3"
   },
   "outputs": [],
   "source": [
    "# Создаём модель (НАСТРОЙКИ НЕ ТРОГАЕМ)\n",
    "model = RandomForestRegressor(n_estimators=100, verbose=1, n_jobs=-1, random_state=RANDOM_SEED)"
   ]
  },
  {
   "cell_type": "code",
   "execution_count": 37,
   "metadata": {
    "cellId": "14fr0s49rjudp1gdz6t9ij"
   },
   "outputs": [
    {
     "name": "stderr",
     "output_type": "stream",
     "text": [
      "[Parallel(n_jobs=-1)]: Using backend ThreadingBackend with 8 concurrent workers.\n",
      "[Parallel(n_jobs=-1)]: Done  34 tasks      | elapsed:  2.5min\n",
      "[Parallel(n_jobs=-1)]: Done 100 out of 100 | elapsed:  6.6min finished\n",
      "[Parallel(n_jobs=8)]: Using backend ThreadingBackend with 8 concurrent workers.\n",
      "[Parallel(n_jobs=8)]: Done  34 tasks      | elapsed:    1.0s\n",
      "[Parallel(n_jobs=8)]: Done 100 out of 100 | elapsed:    2.9s finished\n"
     ]
    }
   ],
   "source": [
    "# Обучаем модель на тестовом наборе данных\n",
    "model.fit(X_train, y_train)\n",
    "\n",
    "# Используем обученную модель для предсказания рейтинга ресторанов в тестовой выборке.\n",
    "# Предсказанные значения записываем в переменную y_pred\n",
    "y_pred = model.predict(X_test)"
   ]
  },
  {
   "cell_type": "code",
   "execution_count": 38,
   "metadata": {
    "cellId": "aexz3mj6m1w929ipie1e"
   },
   "outputs": [
    {
     "name": "stdout",
     "output_type": "stream",
     "text": [
      "MAE: 0.03974655922446604\n"
     ]
    }
   ],
   "source": [
    "# Сравниваем предсказанные значения (y_pred) с реальными (y_test), и смотрим насколько они в среднем отличаются\n",
    "# Метрика называется Mean Absolute Error (MAE) и показывает среднее отклонение предсказанных значений от фактических.\n",
    "print('MAE:', metrics.mean_absolute_error(y_test, y_pred))"
   ]
  },
  {
   "cell_type": "code",
   "execution_count": 39,
   "metadata": {
    "cellId": "kytr738tqcmbdhpaanoqd"
   },
   "outputs": [
    {
     "data": {
      "text/plain": [
       "<matplotlib.axes._subplots.AxesSubplot at 0x16cc82c9308>"
      ]
     },
     "execution_count": 39,
     "metadata": {},
     "output_type": "execute_result"
    },
    {
     "data": {
      "image/png": "[encoded data removed]",
      "text/plain": [
       "<Figure size 720x720 with 1 Axes>"
      ]
     },
     "metadata": {
      "needs_background": "light"
     },
     "output_type": "display_data"
    }
   ],
   "source": [
    "# в RandomForestRegressor есть возможность вывести самые важные признаки для модели\n",
    "plt.rcParams['figure.figsize'] = (10,10)\n",
    "feat_importances = pd.Series(model.feature_importances_, index=X.columns)\n",
    "feat_importances.nlargest(15).plot(kind='barh')"
   ]
  },
  {
   "cell_type": "markdown",
   "metadata": {
    "cellId": "yzorb7s0u6qkcsc4mp4vnq"
   },
   "source": [
    "# Submission\n",
    "Если все устраевает - готовим Submission на кагл"
   ]
  },
  {
   "cell_type": "code",
   "execution_count": 40,
   "metadata": {
    "cellId": "w1fu4i1oxlhhueifgkf9p6"
   },
   "outputs": [
    {
     "data": {
      "text/html": [
       "<div>\n",
       "<style scoped>\n",
       "    .dataframe tbody tr th:only-of-type {\n",
       "        vertical-align: middle;\n",
       "    }\n",
       "\n",
       "    .dataframe tbody tr th {\n",
       "        vertical-align: top;\n",
       "    }\n",
       "\n",
       "    .dataframe thead th {\n",
       "        text-align: right;\n",
       "    }\n",
       "</style>\n",
       "<table border=\"1\" class=\"dataframe\">\n",
       "  <thead>\n",
       "    <tr style=\"text-align: right;\">\n",
       "      <th></th>\n",
       "      <th>City</th>\n",
       "      <th>Cuisine Style</th>\n",
       "      <th>Ranking</th>\n",
       "      <th>Price Range</th>\n",
       "      <th>Number of Reviews</th>\n",
       "      <th>Rating</th>\n",
       "      <th>Population</th>\n",
       "      <th>Country</th>\n",
       "      <th>neg</th>\n",
       "      <th>neu</th>\n",
       "      <th>pos</th>\n",
       "      <th>compound</th>\n",
       "      <th>nb_chars</th>\n",
       "      <th>nb_words</th>\n",
       "      <th>doc2vec_vector_0</th>\n",
       "      <th>doc2vec_vector_1</th>\n",
       "      <th>doc2vec_vector_2</th>\n",
       "      <th>doc2vec_vector_3</th>\n",
       "      <th>doc2vec_vector_4</th>\n",
       "    </tr>\n",
       "  </thead>\n",
       "  <tbody>\n",
       "    <tr>\n",
       "      <th>8254</th>\n",
       "      <td>19</td>\n",
       "      <td>21</td>\n",
       "      <td>2851.0</td>\n",
       "      <td>2</td>\n",
       "      <td>52.0</td>\n",
       "      <td>0.0</td>\n",
       "      <td>346774.0</td>\n",
       "      <td>4</td>\n",
       "      <td>0.000</td>\n",
       "      <td>0.414</td>\n",
       "      <td>0.586</td>\n",
       "      <td>0.8720</td>\n",
       "      <td>64</td>\n",
       "      <td>10</td>\n",
       "      <td>0.108471</td>\n",
       "      <td>-0.004742</td>\n",
       "      <td>-0.028807</td>\n",
       "      <td>-0.062704</td>\n",
       "      <td>-0.092309</td>\n",
       "    </tr>\n",
       "    <tr>\n",
       "      <th>18712</th>\n",
       "      <td>2</td>\n",
       "      <td>44</td>\n",
       "      <td>11624.0</td>\n",
       "      <td>2</td>\n",
       "      <td>123.0</td>\n",
       "      <td>0.0</td>\n",
       "      <td>27022.0</td>\n",
       "      <td>21</td>\n",
       "      <td>0.249</td>\n",
       "      <td>0.110</td>\n",
       "      <td>0.640</td>\n",
       "      <td>0.5487</td>\n",
       "      <td>25</td>\n",
       "      <td>4</td>\n",
       "      <td>-0.060263</td>\n",
       "      <td>0.020055</td>\n",
       "      <td>0.054528</td>\n",
       "      <td>0.032085</td>\n",
       "      <td>0.002901</td>\n",
       "    </tr>\n",
       "    <tr>\n",
       "      <th>7500</th>\n",
       "      <td>26</td>\n",
       "      <td>93</td>\n",
       "      <td>671.0</td>\n",
       "      <td>2</td>\n",
       "      <td>12.0</td>\n",
       "      <td>0.0</td>\n",
       "      <td>13429.0</td>\n",
       "      <td>29</td>\n",
       "      <td>0.310</td>\n",
       "      <td>0.690</td>\n",
       "      <td>0.000</td>\n",
       "      <td>-0.2023</td>\n",
       "      <td>34</td>\n",
       "      <td>5</td>\n",
       "      <td>-0.039536</td>\n",
       "      <td>-0.002871</td>\n",
       "      <td>-0.125151</td>\n",
       "      <td>-0.050273</td>\n",
       "      <td>-0.021488</td>\n",
       "    </tr>\n",
       "    <tr>\n",
       "      <th>24356</th>\n",
       "      <td>24</td>\n",
       "      <td>89</td>\n",
       "      <td>2125.0</td>\n",
       "      <td>2</td>\n",
       "      <td>113.0</td>\n",
       "      <td>0.0</td>\n",
       "      <td>3119.0</td>\n",
       "      <td>29</td>\n",
       "      <td>0.000</td>\n",
       "      <td>0.707</td>\n",
       "      <td>0.293</td>\n",
       "      <td>0.4404</td>\n",
       "      <td>55</td>\n",
       "      <td>8</td>\n",
       "      <td>-0.052826</td>\n",
       "      <td>0.066148</td>\n",
       "      <td>-0.067462</td>\n",
       "      <td>0.021152</td>\n",
       "      <td>-0.128082</td>\n",
       "    </tr>\n",
       "    <tr>\n",
       "      <th>27784</th>\n",
       "      <td>5</td>\n",
       "      <td>44</td>\n",
       "      <td>3273.0</td>\n",
       "      <td>2</td>\n",
       "      <td>0.0</td>\n",
       "      <td>0.0</td>\n",
       "      <td>1050.0</td>\n",
       "      <td>1</td>\n",
       "      <td>0.000</td>\n",
       "      <td>0.000</td>\n",
       "      <td>0.000</td>\n",
       "      <td>0.0000</td>\n",
       "      <td>0</td>\n",
       "      <td>1</td>\n",
       "      <td>0.027699</td>\n",
       "      <td>0.032830</td>\n",
       "      <td>0.030153</td>\n",
       "      <td>0.033987</td>\n",
       "      <td>0.031817</td>\n",
       "    </tr>\n",
       "    <tr>\n",
       "      <th>25007</th>\n",
       "      <td>24</td>\n",
       "      <td>49</td>\n",
       "      <td>1168.0</td>\n",
       "      <td>2</td>\n",
       "      <td>183.0</td>\n",
       "      <td>0.0</td>\n",
       "      <td>7421228.0</td>\n",
       "      <td>10</td>\n",
       "      <td>0.000</td>\n",
       "      <td>0.297</td>\n",
       "      <td>0.703</td>\n",
       "      <td>0.7968</td>\n",
       "      <td>39</td>\n",
       "      <td>5</td>\n",
       "      <td>-0.015990</td>\n",
       "      <td>0.088463</td>\n",
       "      <td>-0.024068</td>\n",
       "      <td>-0.012766</td>\n",
       "      <td>0.017452</td>\n",
       "    </tr>\n",
       "    <tr>\n",
       "      <th>1591</th>\n",
       "      <td>9</td>\n",
       "      <td>127</td>\n",
       "      <td>264.0</td>\n",
       "      <td>2</td>\n",
       "      <td>341.0</td>\n",
       "      <td>0.0</td>\n",
       "      <td>35237.0</td>\n",
       "      <td>25</td>\n",
       "      <td>0.000</td>\n",
       "      <td>0.252</td>\n",
       "      <td>0.748</td>\n",
       "      <td>0.8360</td>\n",
       "      <td>40</td>\n",
       "      <td>6</td>\n",
       "      <td>-0.063607</td>\n",
       "      <td>-0.008014</td>\n",
       "      <td>-0.032690</td>\n",
       "      <td>-0.072561</td>\n",
       "      <td>0.089137</td>\n",
       "    </tr>\n",
       "    <tr>\n",
       "      <th>17811</th>\n",
       "      <td>2</td>\n",
       "      <td>48</td>\n",
       "      <td>12920.0</td>\n",
       "      <td>3</td>\n",
       "      <td>27.0</td>\n",
       "      <td>0.0</td>\n",
       "      <td>9332.0</td>\n",
       "      <td>21</td>\n",
       "      <td>0.000</td>\n",
       "      <td>0.286</td>\n",
       "      <td>0.714</td>\n",
       "      <td>0.6124</td>\n",
       "      <td>24</td>\n",
       "      <td>4</td>\n",
       "      <td>0.100255</td>\n",
       "      <td>-0.065133</td>\n",
       "      <td>-0.039968</td>\n",
       "      <td>-0.001178</td>\n",
       "      <td>-0.020346</td>\n",
       "    </tr>\n",
       "    <tr>\n",
       "      <th>21514</th>\n",
       "      <td>16</td>\n",
       "      <td>29</td>\n",
       "      <td>672.0</td>\n",
       "      <td>2</td>\n",
       "      <td>185.0</td>\n",
       "      <td>0.0</td>\n",
       "      <td>2110694.0</td>\n",
       "      <td>11</td>\n",
       "      <td>0.216</td>\n",
       "      <td>0.196</td>\n",
       "      <td>0.588</td>\n",
       "      <td>0.5859</td>\n",
       "      <td>28</td>\n",
       "      <td>5</td>\n",
       "      <td>0.086411</td>\n",
       "      <td>0.018386</td>\n",
       "      <td>-0.034195</td>\n",
       "      <td>-0.120124</td>\n",
       "      <td>0.042817</td>\n",
       "    </tr>\n",
       "    <tr>\n",
       "      <th>14922</th>\n",
       "      <td>3</td>\n",
       "      <td>129</td>\n",
       "      <td>1356.0</td>\n",
       "      <td>2</td>\n",
       "      <td>43.0</td>\n",
       "      <td>0.0</td>\n",
       "      <td>2643736.0</td>\n",
       "      <td>13</td>\n",
       "      <td>0.000</td>\n",
       "      <td>0.282</td>\n",
       "      <td>0.718</td>\n",
       "      <td>0.9136</td>\n",
       "      <td>60</td>\n",
       "      <td>9</td>\n",
       "      <td>-0.059672</td>\n",
       "      <td>0.080692</td>\n",
       "      <td>0.022951</td>\n",
       "      <td>-0.098135</td>\n",
       "      <td>-0.023006</td>\n",
       "    </tr>\n",
       "  </tbody>\n",
       "</table>\n",
       "</div>"
      ],
      "text/plain": [
       "       City  Cuisine Style  Ranking  Price Range  Number of Reviews  Rating  \\\n",
       "8254     19             21   2851.0            2               52.0     0.0   \n",
       "18712     2             44  11624.0            2              123.0     0.0   \n",
       "7500     26             93    671.0            2               12.0     0.0   \n",
       "24356    24             89   2125.0            2              113.0     0.0   \n",
       "27784     5             44   3273.0            2                0.0     0.0   \n",
       "25007    24             49   1168.0            2              183.0     0.0   \n",
       "1591      9            127    264.0            2              341.0     0.0   \n",
       "17811     2             48  12920.0            3               27.0     0.0   \n",
       "21514    16             29    672.0            2              185.0     0.0   \n",
       "14922     3            129   1356.0            2               43.0     0.0   \n",
       "\n",
       "       Population  Country    neg    neu    pos  compound  nb_chars  nb_words  \\\n",
       "8254     346774.0        4  0.000  0.414  0.586    0.8720        64        10   \n",
       "18712     27022.0       21  0.249  0.110  0.640    0.5487        25         4   \n",
       "7500      13429.0       29  0.310  0.690  0.000   -0.2023        34         5   \n",
       "24356      3119.0       29  0.000  0.707  0.293    0.4404        55         8   \n",
       "27784      1050.0        1  0.000  0.000  0.000    0.0000         0         1   \n",
       "25007   7421228.0       10  0.000  0.297  0.703    0.7968        39         5   \n",
       "1591      35237.0       25  0.000  0.252  0.748    0.8360        40         6   \n",
       "17811      9332.0       21  0.000  0.286  0.714    0.6124        24         4   \n",
       "21514   2110694.0       11  0.216  0.196  0.588    0.5859        28         5   \n",
       "14922   2643736.0       13  0.000  0.282  0.718    0.9136        60         9   \n",
       "\n",
       "       doc2vec_vector_0  doc2vec_vector_1  doc2vec_vector_2  doc2vec_vector_3  \\\n",
       "8254           0.108471         -0.004742         -0.028807         -0.062704   \n",
       "18712         -0.060263          0.020055          0.054528          0.032085   \n",
       "7500          -0.039536         -0.002871         -0.125151         -0.050273   \n",
       "24356         -0.052826          0.066148         -0.067462          0.021152   \n",
       "27784          0.027699          0.032830          0.030153          0.033987   \n",
       "25007         -0.015990          0.088463         -0.024068         -0.012766   \n",
       "1591          -0.063607         -0.008014         -0.032690         -0.072561   \n",
       "17811          0.100255         -0.065133         -0.039968         -0.001178   \n",
       "21514          0.086411          0.018386         -0.034195         -0.120124   \n",
       "14922         -0.059672          0.080692          0.022951         -0.098135   \n",
       "\n",
       "       doc2vec_vector_4  \n",
       "8254          -0.092309  \n",
       "18712          0.002901  \n",
       "7500          -0.021488  \n",
       "24356         -0.128082  \n",
       "27784          0.031817  \n",
       "25007          0.017452  \n",
       "1591           0.089137  \n",
       "17811         -0.020346  \n",
       "21514          0.042817  \n",
       "14922         -0.023006  "
      ]
     },
     "execution_count": 40,
     "metadata": {},
     "output_type": "execute_result"
    }
   ],
   "source": [
    "test_data.sample(10)"
   ]
  },
  {
   "cell_type": "code",
   "execution_count": 47,
   "metadata": {},
   "outputs": [
    {
     "data": {
      "text/plain": [
       "(92468, 18)"
      ]
     },
     "execution_count": 47,
     "metadata": {},
     "output_type": "execute_result"
    }
   ],
   "source": [
    "test_data.shape"
   ]
  },
  {
   "cell_type": "code",
   "execution_count": 41,
   "metadata": {
    "cellId": "ja6ab6flzemxrg3ub4ajh"
   },
   "outputs": [],
   "source": [
    "test_data = test_data.drop(['Rating'], axis=1)"
   ]
  },
  {
   "cell_type": "code",
   "execution_count": 42,
   "metadata": {
    "cellId": "p2fwfywystqdwb57g8wcql"
   },
   "outputs": [
    {
     "data": {
      "text/html": [
       "<div>\n",
       "<style scoped>\n",
       "    .dataframe tbody tr th:only-of-type {\n",
       "        vertical-align: middle;\n",
       "    }\n",
       "\n",
       "    .dataframe tbody tr th {\n",
       "        vertical-align: top;\n",
       "    }\n",
       "\n",
       "    .dataframe thead th {\n",
       "        text-align: right;\n",
       "    }\n",
       "</style>\n",
       "<table border=\"1\" class=\"dataframe\">\n",
       "  <thead>\n",
       "    <tr style=\"text-align: right;\">\n",
       "      <th></th>\n",
       "      <th>Restaurant_id</th>\n",
       "      <th>Rating</th>\n",
       "    </tr>\n",
       "  </thead>\n",
       "  <tbody>\n",
       "    <tr>\n",
       "      <th>0</th>\n",
       "      <td>id_0</td>\n",
       "      <td>2.0</td>\n",
       "    </tr>\n",
       "    <tr>\n",
       "      <th>1</th>\n",
       "      <td>id_1</td>\n",
       "      <td>2.5</td>\n",
       "    </tr>\n",
       "    <tr>\n",
       "      <th>2</th>\n",
       "      <td>id_2</td>\n",
       "      <td>4.0</td>\n",
       "    </tr>\n",
       "    <tr>\n",
       "      <th>3</th>\n",
       "      <td>id_3</td>\n",
       "      <td>1.0</td>\n",
       "    </tr>\n",
       "    <tr>\n",
       "      <th>4</th>\n",
       "      <td>id_4</td>\n",
       "      <td>4.0</td>\n",
       "    </tr>\n",
       "    <tr>\n",
       "      <th>...</th>\n",
       "      <td>...</td>\n",
       "      <td>...</td>\n",
       "    </tr>\n",
       "    <tr>\n",
       "      <th>9995</th>\n",
       "      <td>id_9995</td>\n",
       "      <td>3.0</td>\n",
       "    </tr>\n",
       "    <tr>\n",
       "      <th>9996</th>\n",
       "      <td>id_9996</td>\n",
       "      <td>1.5</td>\n",
       "    </tr>\n",
       "    <tr>\n",
       "      <th>9997</th>\n",
       "      <td>id_9997</td>\n",
       "      <td>4.5</td>\n",
       "    </tr>\n",
       "    <tr>\n",
       "      <th>9998</th>\n",
       "      <td>id_9998</td>\n",
       "      <td>1.0</td>\n",
       "    </tr>\n",
       "    <tr>\n",
       "      <th>9999</th>\n",
       "      <td>id_9999</td>\n",
       "      <td>2.5</td>\n",
       "    </tr>\n",
       "  </tbody>\n",
       "</table>\n",
       "<p>10000 rows × 2 columns</p>\n",
       "</div>"
      ],
      "text/plain": [
       "     Restaurant_id  Rating\n",
       "0             id_0     2.0\n",
       "1             id_1     2.5\n",
       "2             id_2     4.0\n",
       "3             id_3     1.0\n",
       "4             id_4     4.0\n",
       "...            ...     ...\n",
       "9995       id_9995     3.0\n",
       "9996       id_9996     1.5\n",
       "9997       id_9997     4.5\n",
       "9998       id_9998     1.0\n",
       "9999       id_9999     2.5\n",
       "\n",
       "[10000 rows x 2 columns]"
      ]
     },
     "execution_count": 42,
     "metadata": {},
     "output_type": "execute_result"
    }
   ],
   "source": [
    "sample_submission"
   ]
  },
  {
   "cell_type": "code",
   "execution_count": 43,
   "metadata": {
    "cellId": "zftoqs55px7y6x9jzcyyj"
   },
   "outputs": [
    {
     "name": "stderr",
     "output_type": "stream",
     "text": [
      "[Parallel(n_jobs=8)]: Using backend ThreadingBackend with 8 concurrent workers.\n",
      "[Parallel(n_jobs=8)]: Done  34 tasks      | elapsed:    0.1s\n",
      "[Parallel(n_jobs=8)]: Done 100 out of 100 | elapsed:    0.4s finished\n"
     ]
    }
   ],
   "source": [
    "predict_submission = model.predict(test_data)"
   ]
  },
  {
   "cell_type": "code",
   "execution_count": 44,
   "metadata": {
    "cellId": "ap5932q0al91eavtc2d0a"
   },
   "outputs": [
    {
     "data": {
      "text/plain": [
       "array([3.205, 3.205, 3.175, ..., 4.155, 4.165, 4.17 ])"
      ]
     },
     "execution_count": 44,
     "metadata": {},
     "output_type": "execute_result"
    }
   ],
   "source": [
    "predict_submission"
   ]
  },
  {
   "cell_type": "code",
   "execution_count": 48,
   "metadata": {},
   "outputs": [
    {
     "data": {
      "text/plain": [
       "(92468,)"
      ]
     },
     "execution_count": 48,
     "metadata": {},
     "output_type": "execute_result"
    }
   ],
   "source": [
    "predict_submission.shape"
   ]
  },
  {
   "cell_type": "code",
   "execution_count": 49,
   "metadata": {},
   "outputs": [],
   "source": [
    "test_data['Rating'] = predict_submission"
   ]
  },
  {
   "cell_type": "code",
   "execution_count": 53,
   "metadata": {},
   "outputs": [
    {
     "data": {
      "text/html": [
       "<div>\n",
       "<style scoped>\n",
       "    .dataframe tbody tr th:only-of-type {\n",
       "        vertical-align: middle;\n",
       "    }\n",
       "\n",
       "    .dataframe tbody tr th {\n",
       "        vertical-align: top;\n",
       "    }\n",
       "\n",
       "    .dataframe thead th {\n",
       "        text-align: right;\n",
       "    }\n",
       "</style>\n",
       "<table border=\"1\" class=\"dataframe\">\n",
       "  <thead>\n",
       "    <tr style=\"text-align: right;\">\n",
       "      <th></th>\n",
       "      <th>City</th>\n",
       "      <th>Cuisine Style</th>\n",
       "      <th>Ranking</th>\n",
       "      <th>Price Range</th>\n",
       "      <th>Number of Reviews</th>\n",
       "      <th>Population</th>\n",
       "      <th>Country</th>\n",
       "      <th>neg</th>\n",
       "      <th>neu</th>\n",
       "      <th>pos</th>\n",
       "      <th>compound</th>\n",
       "      <th>nb_chars</th>\n",
       "      <th>nb_words</th>\n",
       "      <th>doc2vec_vector_0</th>\n",
       "      <th>doc2vec_vector_1</th>\n",
       "      <th>doc2vec_vector_2</th>\n",
       "      <th>doc2vec_vector_3</th>\n",
       "      <th>doc2vec_vector_4</th>\n",
       "      <th>Rating</th>\n",
       "    </tr>\n",
       "  </thead>\n",
       "  <tbody>\n",
       "    <tr>\n",
       "      <th>0</th>\n",
       "      <td>24</td>\n",
       "      <td>14</td>\n",
       "      <td>12963.0</td>\n",
       "      <td>2</td>\n",
       "      <td>4.0</td>\n",
       "      <td>10437.0</td>\n",
       "      <td>2</td>\n",
       "      <td>0.0</td>\n",
       "      <td>0.000</td>\n",
       "      <td>0.000</td>\n",
       "      <td>0.0000</td>\n",
       "      <td>0</td>\n",
       "      <td>1</td>\n",
       "      <td>0.009763</td>\n",
       "      <td>0.043038</td>\n",
       "      <td>0.020553</td>\n",
       "      <td>0.008977</td>\n",
       "      <td>-0.015269</td>\n",
       "      <td>3.205</td>\n",
       "    </tr>\n",
       "    <tr>\n",
       "      <th>0</th>\n",
       "      <td>24</td>\n",
       "      <td>14</td>\n",
       "      <td>12963.0</td>\n",
       "      <td>2</td>\n",
       "      <td>4.0</td>\n",
       "      <td>10437.0</td>\n",
       "      <td>2</td>\n",
       "      <td>0.0</td>\n",
       "      <td>0.000</td>\n",
       "      <td>0.000</td>\n",
       "      <td>0.0000</td>\n",
       "      <td>0</td>\n",
       "      <td>1</td>\n",
       "      <td>0.009763</td>\n",
       "      <td>0.043038</td>\n",
       "      <td>0.020553</td>\n",
       "      <td>0.008977</td>\n",
       "      <td>-0.015269</td>\n",
       "      <td>3.205</td>\n",
       "    </tr>\n",
       "    <tr>\n",
       "      <th>1</th>\n",
       "      <td>24</td>\n",
       "      <td>97</td>\n",
       "      <td>12963.0</td>\n",
       "      <td>2</td>\n",
       "      <td>4.0</td>\n",
       "      <td>2110694.0</td>\n",
       "      <td>2</td>\n",
       "      <td>0.0</td>\n",
       "      <td>0.000</td>\n",
       "      <td>0.000</td>\n",
       "      <td>0.0000</td>\n",
       "      <td>0</td>\n",
       "      <td>1</td>\n",
       "      <td>0.013276</td>\n",
       "      <td>0.047933</td>\n",
       "      <td>0.037611</td>\n",
       "      <td>0.016635</td>\n",
       "      <td>0.029316</td>\n",
       "      <td>3.175</td>\n",
       "    </tr>\n",
       "    <tr>\n",
       "      <th>1</th>\n",
       "      <td>24</td>\n",
       "      <td>97</td>\n",
       "      <td>12963.0</td>\n",
       "      <td>2</td>\n",
       "      <td>4.0</td>\n",
       "      <td>2110694.0</td>\n",
       "      <td>2</td>\n",
       "      <td>0.0</td>\n",
       "      <td>0.000</td>\n",
       "      <td>0.000</td>\n",
       "      <td>0.0000</td>\n",
       "      <td>0</td>\n",
       "      <td>1</td>\n",
       "      <td>0.013276</td>\n",
       "      <td>0.047933</td>\n",
       "      <td>0.037611</td>\n",
       "      <td>0.016635</td>\n",
       "      <td>0.029316</td>\n",
       "      <td>3.175</td>\n",
       "    </tr>\n",
       "    <tr>\n",
       "      <th>2</th>\n",
       "      <td>24</td>\n",
       "      <td>14</td>\n",
       "      <td>12963.0</td>\n",
       "      <td>2</td>\n",
       "      <td>4.0</td>\n",
       "      <td>9332.0</td>\n",
       "      <td>10</td>\n",
       "      <td>0.0</td>\n",
       "      <td>0.000</td>\n",
       "      <td>0.000</td>\n",
       "      <td>0.0000</td>\n",
       "      <td>0</td>\n",
       "      <td>1</td>\n",
       "      <td>0.009763</td>\n",
       "      <td>0.043038</td>\n",
       "      <td>0.020553</td>\n",
       "      <td>0.008977</td>\n",
       "      <td>-0.015269</td>\n",
       "      <td>3.175</td>\n",
       "    </tr>\n",
       "    <tr>\n",
       "      <th>...</th>\n",
       "      <td>...</td>\n",
       "      <td>...</td>\n",
       "      <td>...</td>\n",
       "      <td>...</td>\n",
       "      <td>...</td>\n",
       "      <td>...</td>\n",
       "      <td>...</td>\n",
       "      <td>...</td>\n",
       "      <td>...</td>\n",
       "      <td>...</td>\n",
       "      <td>...</td>\n",
       "      <td>...</td>\n",
       "      <td>...</td>\n",
       "      <td>...</td>\n",
       "      <td>...</td>\n",
       "      <td>...</td>\n",
       "      <td>...</td>\n",
       "      <td>...</td>\n",
       "      <td>...</td>\n",
       "    </tr>\n",
       "    <tr>\n",
       "      <th>28548</th>\n",
       "      <td>2</td>\n",
       "      <td>79</td>\n",
       "      <td>6791.0</td>\n",
       "      <td>2</td>\n",
       "      <td>14.0</td>\n",
       "      <td>2110694.0</td>\n",
       "      <td>21</td>\n",
       "      <td>0.0</td>\n",
       "      <td>0.476</td>\n",
       "      <td>0.524</td>\n",
       "      <td>0.5106</td>\n",
       "      <td>28</td>\n",
       "      <td>4</td>\n",
       "      <td>0.036988</td>\n",
       "      <td>-0.062979</td>\n",
       "      <td>0.038168</td>\n",
       "      <td>0.070777</td>\n",
       "      <td>-0.007106</td>\n",
       "      <td>4.270</td>\n",
       "    </tr>\n",
       "    <tr>\n",
       "      <th>28549</th>\n",
       "      <td>2</td>\n",
       "      <td>44</td>\n",
       "      <td>6791.0</td>\n",
       "      <td>2</td>\n",
       "      <td>14.0</td>\n",
       "      <td>9332.0</td>\n",
       "      <td>21</td>\n",
       "      <td>0.0</td>\n",
       "      <td>0.476</td>\n",
       "      <td>0.524</td>\n",
       "      <td>0.5106</td>\n",
       "      <td>28</td>\n",
       "      <td>4</td>\n",
       "      <td>-0.013602</td>\n",
       "      <td>-0.066004</td>\n",
       "      <td>0.008341</td>\n",
       "      <td>0.119403</td>\n",
       "      <td>-0.060716</td>\n",
       "      <td>4.190</td>\n",
       "    </tr>\n",
       "    <tr>\n",
       "      <th>28550</th>\n",
       "      <td>2</td>\n",
       "      <td>112</td>\n",
       "      <td>6791.0</td>\n",
       "      <td>2</td>\n",
       "      <td>14.0</td>\n",
       "      <td>5073.0</td>\n",
       "      <td>21</td>\n",
       "      <td>0.0</td>\n",
       "      <td>0.476</td>\n",
       "      <td>0.524</td>\n",
       "      <td>0.5106</td>\n",
       "      <td>28</td>\n",
       "      <td>4</td>\n",
       "      <td>0.018915</td>\n",
       "      <td>-0.079799</td>\n",
       "      <td>0.045163</td>\n",
       "      <td>0.060554</td>\n",
       "      <td>-0.017574</td>\n",
       "      <td>4.155</td>\n",
       "    </tr>\n",
       "    <tr>\n",
       "      <th>28551</th>\n",
       "      <td>2</td>\n",
       "      <td>127</td>\n",
       "      <td>6791.0</td>\n",
       "      <td>2</td>\n",
       "      <td>14.0</td>\n",
       "      <td>9587.0</td>\n",
       "      <td>21</td>\n",
       "      <td>0.0</td>\n",
       "      <td>0.476</td>\n",
       "      <td>0.524</td>\n",
       "      <td>0.5106</td>\n",
       "      <td>28</td>\n",
       "      <td>4</td>\n",
       "      <td>0.028918</td>\n",
       "      <td>-0.071578</td>\n",
       "      <td>0.014254</td>\n",
       "      <td>0.087566</td>\n",
       "      <td>-0.024341</td>\n",
       "      <td>4.165</td>\n",
       "    </tr>\n",
       "    <tr>\n",
       "      <th>28552</th>\n",
       "      <td>2</td>\n",
       "      <td>50</td>\n",
       "      <td>6791.0</td>\n",
       "      <td>2</td>\n",
       "      <td>14.0</td>\n",
       "      <td>27022.0</td>\n",
       "      <td>21</td>\n",
       "      <td>0.0</td>\n",
       "      <td>0.476</td>\n",
       "      <td>0.524</td>\n",
       "      <td>0.5106</td>\n",
       "      <td>28</td>\n",
       "      <td>4</td>\n",
       "      <td>-0.002013</td>\n",
       "      <td>-0.049798</td>\n",
       "      <td>0.026891</td>\n",
       "      <td>0.073301</td>\n",
       "      <td>-0.025356</td>\n",
       "      <td>4.170</td>\n",
       "    </tr>\n",
       "  </tbody>\n",
       "</table>\n",
       "<p>92468 rows × 19 columns</p>\n",
       "</div>"
      ],
      "text/plain": [
       "       City  Cuisine Style  Ranking  Price Range  Number of Reviews  \\\n",
       "0        24             14  12963.0            2                4.0   \n",
       "0        24             14  12963.0            2                4.0   \n",
       "1        24             97  12963.0            2                4.0   \n",
       "1        24             97  12963.0            2                4.0   \n",
       "2        24             14  12963.0            2                4.0   \n",
       "...     ...            ...      ...          ...                ...   \n",
       "28548     2             79   6791.0            2               14.0   \n",
       "28549     2             44   6791.0            2               14.0   \n",
       "28550     2            112   6791.0            2               14.0   \n",
       "28551     2            127   6791.0            2               14.0   \n",
       "28552     2             50   6791.0            2               14.0   \n",
       "\n",
       "       Population  Country  neg    neu    pos  compound  nb_chars  nb_words  \\\n",
       "0         10437.0        2  0.0  0.000  0.000    0.0000         0         1   \n",
       "0         10437.0        2  0.0  0.000  0.000    0.0000         0         1   \n",
       "1       2110694.0        2  0.0  0.000  0.000    0.0000         0         1   \n",
       "1       2110694.0        2  0.0  0.000  0.000    0.0000         0         1   \n",
       "2          9332.0       10  0.0  0.000  0.000    0.0000         0         1   \n",
       "...           ...      ...  ...    ...    ...       ...       ...       ...   \n",
       "28548   2110694.0       21  0.0  0.476  0.524    0.5106        28         4   \n",
       "28549      9332.0       21  0.0  0.476  0.524    0.5106        28         4   \n",
       "28550      5073.0       21  0.0  0.476  0.524    0.5106        28         4   \n",
       "28551      9587.0       21  0.0  0.476  0.524    0.5106        28         4   \n",
       "28552     27022.0       21  0.0  0.476  0.524    0.5106        28         4   \n",
       "\n",
       "       doc2vec_vector_0  doc2vec_vector_1  doc2vec_vector_2  doc2vec_vector_3  \\\n",
       "0              0.009763          0.043038          0.020553          0.008977   \n",
       "0              0.009763          0.043038          0.020553          0.008977   \n",
       "1              0.013276          0.047933          0.037611          0.016635   \n",
       "1              0.013276          0.047933          0.037611          0.016635   \n",
       "2              0.009763          0.043038          0.020553          0.008977   \n",
       "...                 ...               ...               ...               ...   \n",
       "28548          0.036988         -0.062979          0.038168          0.070777   \n",
       "28549         -0.013602         -0.066004          0.008341          0.119403   \n",
       "28550          0.018915         -0.079799          0.045163          0.060554   \n",
       "28551          0.028918         -0.071578          0.014254          0.087566   \n",
       "28552         -0.002013         -0.049798          0.026891          0.073301   \n",
       "\n",
       "       doc2vec_vector_4  Rating  \n",
       "0             -0.015269   3.205  \n",
       "0             -0.015269   3.205  \n",
       "1              0.029316   3.175  \n",
       "1              0.029316   3.175  \n",
       "2             -0.015269   3.175  \n",
       "...                 ...     ...  \n",
       "28548         -0.007106   4.270  \n",
       "28549         -0.060716   4.190  \n",
       "28550         -0.017574   4.155  \n",
       "28551         -0.024341   4.165  \n",
       "28552         -0.025356   4.170  \n",
       "\n",
       "[92468 rows x 19 columns]"
      ]
     },
     "execution_count": 53,
     "metadata": {},
     "output_type": "execute_result"
    }
   ],
   "source": [
    "test_data"
   ]
  },
  {
   "cell_type": "code",
   "execution_count": null,
   "metadata": {},
   "outputs": [],
   "source": [
    "test_data[['Restaurant_id','Rating']].groupby(by = ['Restaurant_id']).avg()"
   ]
  },
  {
   "cell_type": "code",
   "execution_count": null,
   "metadata": {
    "cellId": "04f02dc9yayxse75vuiza7"
   },
   "outputs": [],
   "source": [
    "sample_submission['Rating'] = predict_submission\n",
    "sample_submission.to_csv('submission.csv', index=False)\n",
    "sample_submission.head(10)"
   ]
  },
  {
   "cell_type": "markdown",
   "metadata": {
    "cellId": "389uxokt2gtk4l37klohu"
   },
   "source": [
    "# What's next?\n",
    "Или что делать, чтоб улучшить результат:\n",
    "* Обработать оставшиеся признаки в понятный для машины формат\n",
    "* Посмотреть, что еще можно извлечь из признаков\n",
    "* Сгенерировать новые признаки\n",
    "* Подгрузить дополнительные данные, например: по населению или благосостоянию городов\n",
    "* Подобрать состав признаков\n",
    "\n",
    "В общем, процесс творческий и весьма увлекательный! Удачи в соревновании!\n"
   ]
  },
  {
   "cell_type": "code",
   "execution_count": null,
   "metadata": {
    "cellId": "r1kzdt7o2v8ac0rwho785"
   },
   "outputs": [],
   "source": []
  },
  {
   "cell_type": "code",
   "execution_count": null,
   "metadata": {},
   "outputs": [],
   "source": []
  }
 ],
 "metadata": {
  "kernelspec": {
   "display_name": "Python 3",
   "language": "python",
   "name": "python3"
  },
  "language_info": {
   "codemirror_mode": {
    "name": "ipython",
    "version": 3
   },
   "file_extension": ".py",
   "mimetype": "text/x-python",
   "name": "python",
   "nbconvert_exporter": "python",
   "pygments_lexer": "ipython3",
   "version": "3.7.6"
  },
  "notebookId": "278c7b23-d923-4421-aef4-3c467178aea4"
 },
 "nbformat": 4,
 "nbformat_minor": 4
}
