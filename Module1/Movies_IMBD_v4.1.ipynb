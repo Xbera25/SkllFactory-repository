{
 "cells": [
  {
   "cell_type": "code",
   "execution_count": 197,
   "metadata": {
    "_cell_guid": "b1076dfc-b9ad-4769-8c92-a6c4dae69d19",
    "_uuid": "8f2839f25d086af736a60e9eeb907d3b93b6e0e5",
    "colab": {},
    "colab_type": "code",
    "id": "U2D2gTdJVp90"
   },
   "outputs": [],
   "source": [
    "import numpy as np\n",
    "import pandas as pd\n",
    "import seaborn as sns\n",
    "import matplotlib.pyplot as plt\n",
    "from collections import Counter\n",
    "from itertools import combinations"
   ]
  },
  {
   "cell_type": "code",
   "execution_count": 198,
   "metadata": {
    "_cell_guid": "79c7e3d0-c299-4dcb-8224-4455121ee9b0",
    "_uuid": "d629ff2d2480ee46fbb7e2d37f6b5fab8052498a",
    "colab": {},
    "colab_type": "code",
    "id": "oyGfxL3eVp9-"
   },
   "outputs": [],
   "source": [
    "data = pd.read_csv('movie_bd_v5.csv')\n",
    "#data.sample(100)"
   ]
  },
  {
   "cell_type": "markdown",
   "metadata": {
    "colab_type": "text",
    "id": "DTIt7ezGVp-G"
   },
   "source": [
    "# Предобработка"
   ]
  },
  {
   "cell_type": "code",
   "execution_count": 199,
   "metadata": {
    "colab": {},
    "colab_type": "code",
    "id": "jNb40DwKVp-H"
   },
   "outputs": [],
   "source": [
    "answers = {} # создадим словарь для ответов\n",
    "\n",
    "# NR calculation:\n",
    "data['revenue'] = data['revenue'].fillna(0)\n",
    "data['budget'] = data['budget'].fillna(0)\n",
    "data['profit'] = data['revenue'] - data['budget']\n",
    "\n",
    "#Date calculation:\n",
    "data['release_month'] = pd.to_datetime(data['release_date'], format='%m/%d/%Y').dt.month\n",
    "\n",
    "#Textlenght calculation:\n",
    "data['overview_lenght'] = data['overview'].str.split().apply(len)\n",
    "data['title_length'] = data['original_title'].str.len()\n",
    "\n",
    "#Keeping columns as strings\n",
    "data['cast_str'] = data['cast']\n",
    "data['production_companies_str'] = data['production_companies']\n",
    "data['genres_str'] = data['genres'] \n",
    "\n",
    "#Converting tect lists to sets\n",
    "data['genres'] = data['genres'].str.split(\"|\")\n",
    "data['director'] = data['director'].str.split(\"|\")\n",
    "data['cast'] = data['cast'].str.split(\"|\")\n",
    "data['production_companies'] = data['production_companies'].str.split(\"|\")\n",
    "\n",
    "#Creating subsets for calculations:\n",
    "data_per_company = data.explode('production_companies')\n",
    "data_per_cast = data.explode('cast')\n",
    "data_per_genres = data.explode('genres')\n",
    "data_per_director = data.explode('director')\n",
    "\n",
    "#Cross_join to calculate pairs\n",
    "df_tot = pd.merge(data_per_cast,data_per_cast, on = 'original_title')\n",
    "df_tot['combocast'] = df_tot.apply(lambda x: set([x['cast_x'],x['cast_y']]),axis=1)"
   ]
  },
  {
   "cell_type": "markdown",
   "metadata": {
    "colab_type": "text",
    "id": "YxZaH-nPVp-L"
   },
   "source": [
    "# 1. У какого фильма из списка самый большой бюджет?"
   ]
  },
  {
   "cell_type": "markdown",
   "metadata": {
    "colab_type": "text",
    "id": "Nd-G5gX6Vp-M"
   },
   "source": [
    "Использовать варианты ответов в коде решения запрещено.    \n",
    "Вы думаете и в жизни у вас будут варианты ответов?)"
   ]
  },
  {
   "cell_type": "code",
   "execution_count": 200,
   "metadata": {
    "colab": {},
    "colab_type": "code",
    "id": "uVnXAY5RVp-O"
   },
   "outputs": [],
   "source": [
    "answers['1'] = data[data['budget']==data['budget'].max()]['original_title'].item() #+"
   ]
  },
  {
   "cell_type": "code",
   "execution_count": 201,
   "metadata": {},
   "outputs": [
    {
     "data": {
      "text/html": [
       "<style  type=\"text/css\" >\n",
       "    #T_f6b4b952_f9df_11ea_9bc8_d83bbfb109dfrow0_col2 {\n",
       "            background-color:  lightgreen;\n",
       "        }</style><table id=\"T_f6b4b952_f9df_11ea_9bc8_d83bbfb109df\" ><thead>    <tr>        <th class=\"blank level0\" ></th>        <th class=\"col_heading level0 col0\" >imdb_id</th>        <th class=\"col_heading level0 col1\" >original_title</th>        <th class=\"col_heading level0 col2\" >budget</th>    </tr></thead><tbody>\n",
       "                <tr>\n",
       "                        <th id=\"T_f6b4b952_f9df_11ea_9bc8_d83bbfb109dflevel0_row0\" class=\"row_heading level0 row0\" >723</th>\n",
       "                        <td id=\"T_f6b4b952_f9df_11ea_9bc8_d83bbfb109dfrow0_col0\" class=\"data row0 col0\" >tt1298650</td>\n",
       "                        <td id=\"T_f6b4b952_f9df_11ea_9bc8_d83bbfb109dfrow0_col1\" class=\"data row0 col1\" >Pirates of the Caribbean: On Stranger Tides</td>\n",
       "                        <td id=\"T_f6b4b952_f9df_11ea_9bc8_d83bbfb109dfrow0_col2\" class=\"data row0 col2\" >380000000</td>\n",
       "            </tr>\n",
       "            <tr>\n",
       "                        <th id=\"T_f6b4b952_f9df_11ea_9bc8_d83bbfb109dflevel0_row1\" class=\"row_heading level0 row1\" >1669</th>\n",
       "                        <td id=\"T_f6b4b952_f9df_11ea_9bc8_d83bbfb109dfrow1_col0\" class=\"data row1 col0\" >tt0449088</td>\n",
       "                        <td id=\"T_f6b4b952_f9df_11ea_9bc8_d83bbfb109dfrow1_col1\" class=\"data row1 col1\" >Pirates of the Caribbean: At World's End</td>\n",
       "                        <td id=\"T_f6b4b952_f9df_11ea_9bc8_d83bbfb109dfrow1_col2\" class=\"data row1 col2\" >300000000</td>\n",
       "            </tr>\n",
       "            <tr>\n",
       "                        <th id=\"T_f6b4b952_f9df_11ea_9bc8_d83bbfb109dflevel0_row2\" class=\"row_heading level0 row2\" >14</th>\n",
       "                        <td id=\"T_f6b4b952_f9df_11ea_9bc8_d83bbfb109dfrow2_col0\" class=\"data row2 col0\" >tt2395427</td>\n",
       "                        <td id=\"T_f6b4b952_f9df_11ea_9bc8_d83bbfb109dfrow2_col1\" class=\"data row2 col1\" >Avengers: Age of Ultron</td>\n",
       "                        <td id=\"T_f6b4b952_f9df_11ea_9bc8_d83bbfb109dfrow2_col2\" class=\"data row2 col2\" >280000000</td>\n",
       "            </tr>\n",
       "            <tr>\n",
       "                        <th id=\"T_f6b4b952_f9df_11ea_9bc8_d83bbfb109dflevel0_row3\" class=\"row_heading level0 row3\" >380</th>\n",
       "                        <td id=\"T_f6b4b952_f9df_11ea_9bc8_d83bbfb109dfrow3_col0\" class=\"data row3 col0\" >tt0398286</td>\n",
       "                        <td id=\"T_f6b4b952_f9df_11ea_9bc8_d83bbfb109dfrow3_col1\" class=\"data row3 col1\" >Tangled</td>\n",
       "                        <td id=\"T_f6b4b952_f9df_11ea_9bc8_d83bbfb109dfrow3_col2\" class=\"data row3 col2\" >260000000</td>\n",
       "            </tr>\n",
       "            <tr>\n",
       "                        <th id=\"T_f6b4b952_f9df_11ea_9bc8_d83bbfb109dflevel0_row4\" class=\"row_heading level0 row4\" >1014</th>\n",
       "                        <td id=\"T_f6b4b952_f9df_11ea_9bc8_d83bbfb109dfrow4_col0\" class=\"data row4 col0\" >tt0401729</td>\n",
       "                        <td id=\"T_f6b4b952_f9df_11ea_9bc8_d83bbfb109dfrow4_col1\" class=\"data row4 col1\" >John Carter</td>\n",
       "                        <td id=\"T_f6b4b952_f9df_11ea_9bc8_d83bbfb109dfrow4_col2\" class=\"data row4 col2\" >260000000</td>\n",
       "            </tr>\n",
       "    </tbody></table>"
      ],
      "text/plain": [
       "<pandas.io.formats.style.Styler at 0x1bcabf6e688>"
      ]
     },
     "execution_count": 201,
     "metadata": {},
     "output_type": "execute_result"
    }
   ],
   "source": [
    "data[['imdb_id','original_title','budget']].nlargest(5, 'budget').style.highlight_max(color = 'lightgreen', axis = 0)"
   ]
  },
  {
   "cell_type": "code",
   "execution_count": 202,
   "metadata": {
    "colab": {},
    "colab_type": "code",
    "id": "dZwb3m28Vp-S"
   },
   "outputs": [
    {
     "data": {
      "text/plain": [
       "<matplotlib.axes._subplots.AxesSubplot at 0x1bcab67a6c8>"
      ]
     },
     "execution_count": 202,
     "metadata": {},
     "output_type": "execute_result"
    },
    {
     "data": {
      "image/png": "[encoded data removed]",
      "text/plain": [
       "<Figure size 432x288 with 1 Axes>"
      ]
     },
     "metadata": {
      "needs_background": "light"
     },
     "output_type": "display_data"
    }
   ],
   "source": [
    "data[['original_title','budget']].nlargest(15, 'budget').sort_values(by=['budget'],ascending=True).plot(kind = 'barh', x = 'original_title', y='budget') #+"
   ]
  },
  {
   "cell_type": "markdown",
   "metadata": {
    "colab_type": "text",
    "id": "FNRbbI3vVp-c"
   },
   "source": [
    "# 2. Какой из фильмов самый длительный (в минутах)?"
   ]
  },
  {
   "cell_type": "code",
   "execution_count": 203,
   "metadata": {
    "colab": {},
    "colab_type": "code",
    "id": "vHAoEXNTVp-d"
   },
   "outputs": [],
   "source": [
    "answers['2'] = data[data['runtime']==data['runtime'].max()]['original_title'].item() #+ "
   ]
  },
  {
   "cell_type": "code",
   "execution_count": 204,
   "metadata": {},
   "outputs": [
    {
     "data": {
      "text/html": [
       "<style  type=\"text/css\" >\n",
       "    #T_f7063478_f9df_11ea_8a32_d83bbfb109dfrow0_col2 {\n",
       "            background-color:  lightgreen;\n",
       "        }</style><table id=\"T_f7063478_f9df_11ea_8a32_d83bbfb109df\" ><thead>    <tr>        <th class=\"blank level0\" ></th>        <th class=\"col_heading level0 col0\" >imdb_id</th>        <th class=\"col_heading level0 col1\" >original_title</th>        <th class=\"col_heading level0 col2\" >runtime</th>    </tr></thead><tbody>\n",
       "                <tr>\n",
       "                        <th id=\"T_f7063478_f9df_11ea_8a32_d83bbfb109dflevel0_row0\" class=\"row_heading level0 row0\" >1157</th>\n",
       "                        <td id=\"T_f7063478_f9df_11ea_8a32_d83bbfb109dfrow0_col0\" class=\"data row0 col0\" >tt0279111</td>\n",
       "                        <td id=\"T_f7063478_f9df_11ea_8a32_d83bbfb109dfrow0_col1\" class=\"data row0 col1\" >Gods and Generals</td>\n",
       "                        <td id=\"T_f7063478_f9df_11ea_8a32_d83bbfb109dfrow0_col2\" class=\"data row0 col2\" >214</td>\n",
       "            </tr>\n",
       "            <tr>\n",
       "                        <th id=\"T_f7063478_f9df_11ea_8a32_d83bbfb109dflevel0_row1\" class=\"row_heading level0 row1\" >1081</th>\n",
       "                        <td id=\"T_f7063478_f9df_11ea_8a32_d83bbfb109dfrow1_col0\" class=\"data row1 col0\" >tt0167260</td>\n",
       "                        <td id=\"T_f7063478_f9df_11ea_8a32_d83bbfb109dfrow1_col1\" class=\"data row1 col1\" >The Lord of the Rings: The Return of the King</td>\n",
       "                        <td id=\"T_f7063478_f9df_11ea_8a32_d83bbfb109dfrow1_col2\" class=\"data row1 col2\" >201</td>\n",
       "            </tr>\n",
       "            <tr>\n",
       "                        <th id=\"T_f7063478_f9df_11ea_8a32_d83bbfb109dflevel0_row2\" class=\"row_heading level0 row2\" >1736</th>\n",
       "                        <td id=\"T_f7063478_f9df_11ea_8a32_d83bbfb109dfrow2_col0\" class=\"data row2 col0\" >tt0462322</td>\n",
       "                        <td id=\"T_f7063478_f9df_11ea_8a32_d83bbfb109dfrow2_col1\" class=\"data row2 col1\" >Grindhouse</td>\n",
       "                        <td id=\"T_f7063478_f9df_11ea_8a32_d83bbfb109dfrow2_col2\" class=\"data row2 col2\" >191</td>\n",
       "            </tr>\n",
       "            <tr>\n",
       "                        <th id=\"T_f7063478_f9df_11ea_8a32_d83bbfb109dflevel0_row3\" class=\"row_heading level0 row3\" >1336</th>\n",
       "                        <td id=\"T_f7063478_f9df_11ea_8a32_d83bbfb109dfrow3_col0\" class=\"data row3 col0\" >tt0360717</td>\n",
       "                        <td id=\"T_f7063478_f9df_11ea_8a32_d83bbfb109dfrow3_col1\" class=\"data row3 col1\" >King Kong</td>\n",
       "                        <td id=\"T_f7063478_f9df_11ea_8a32_d83bbfb109dfrow3_col2\" class=\"data row3 col2\" >187</td>\n",
       "            </tr>\n",
       "            <tr>\n",
       "                        <th id=\"T_f7063478_f9df_11ea_8a32_d83bbfb109dflevel0_row4\" class=\"row_heading level0 row4\" >504</th>\n",
       "                        <td id=\"T_f7063478_f9df_11ea_8a32_d83bbfb109dfrow4_col0\" class=\"data row4 col0\" >tt0213149</td>\n",
       "                        <td id=\"T_f7063478_f9df_11ea_8a32_d83bbfb109dfrow4_col1\" class=\"data row4 col1\" >Pearl Harbor</td>\n",
       "                        <td id=\"T_f7063478_f9df_11ea_8a32_d83bbfb109dfrow4_col2\" class=\"data row4 col2\" >183</td>\n",
       "            </tr>\n",
       "    </tbody></table>"
      ],
      "text/plain": [
       "<pandas.io.formats.style.Styler at 0x1bcabe02f88>"
      ]
     },
     "execution_count": 204,
     "metadata": {},
     "output_type": "execute_result"
    }
   ],
   "source": [
    "data[['imdb_id','original_title','runtime']].nlargest(5, 'runtime').style.highlight_max(color = 'lightgreen', axis = 0)"
   ]
  },
  {
   "cell_type": "markdown",
   "metadata": {
    "colab_type": "text",
    "id": "bapLlpW8Vp-k"
   },
   "source": [
    "# 3. Какой из фильмов самый короткий (в минутах)?\n",
    "\n",
    "\n",
    "\n"
   ]
  },
  {
   "cell_type": "code",
   "execution_count": 205,
   "metadata": {
    "colab": {},
    "colab_type": "code",
    "id": "YBxaSHuAVp-l"
   },
   "outputs": [],
   "source": [
    "answers['3'] = data[data['runtime']==data['runtime'].min()]['original_title'].item() #+"
   ]
  },
  {
   "cell_type": "code",
   "execution_count": 206,
   "metadata": {},
   "outputs": [
    {
     "data": {
      "text/html": [
       "<style  type=\"text/css\" >\n",
       "    #T_f7146540_f9df_11ea_b60b_d83bbfb109dfrow0_col2 {\n",
       "            background-color:  lightblue;\n",
       "        }</style><table id=\"T_f7146540_f9df_11ea_b60b_d83bbfb109df\" ><thead>    <tr>        <th class=\"blank level0\" ></th>        <th class=\"col_heading level0 col0\" >imdb_id</th>        <th class=\"col_heading level0 col1\" >original_title</th>        <th class=\"col_heading level0 col2\" >runtime</th>    </tr></thead><tbody>\n",
       "                <tr>\n",
       "                        <th id=\"T_f7146540_f9df_11ea_b60b_d83bbfb109dflevel0_row0\" class=\"row_heading level0 row0\" >768</th>\n",
       "                        <td id=\"T_f7146540_f9df_11ea_b60b_d83bbfb109dfrow0_col0\" class=\"data row0 col0\" >tt1449283</td>\n",
       "                        <td id=\"T_f7146540_f9df_11ea_b60b_d83bbfb109dfrow0_col1\" class=\"data row0 col1\" >Winnie the Pooh</td>\n",
       "                        <td id=\"T_f7146540_f9df_11ea_b60b_d83bbfb109dfrow0_col2\" class=\"data row0 col2\" >63</td>\n",
       "            </tr>\n",
       "            <tr>\n",
       "                        <th id=\"T_f7146540_f9df_11ea_b60b_d83bbfb109dflevel0_row1\" class=\"row_heading level0 row1\" >930</th>\n",
       "                        <td id=\"T_f7146540_f9df_11ea_b60b_d83bbfb109dfrow1_col0\" class=\"data row1 col0\" >tt0280030</td>\n",
       "                        <td id=\"T_f7146540_f9df_11ea_b60b_d83bbfb109dfrow1_col1\" class=\"data row1 col1\" >Return to Never Land</td>\n",
       "                        <td id=\"T_f7146540_f9df_11ea_b60b_d83bbfb109dfrow1_col2\" class=\"data row1 col2\" >72</td>\n",
       "            </tr>\n",
       "            <tr>\n",
       "                        <th id=\"T_f7146540_f9df_11ea_b60b_d83bbfb109dflevel0_row2\" class=\"row_heading level0 row2\" >1097</th>\n",
       "                        <td id=\"T_f7146540_f9df_11ea_b60b_d83bbfb109dfrow2_col0\" class=\"data row2 col0\" >tt0283426</td>\n",
       "                        <td id=\"T_f7146540_f9df_11ea_b60b_d83bbfb109dfrow2_col1\" class=\"data row2 col1\" >The Jungle Book 2</td>\n",
       "                        <td id=\"T_f7146540_f9df_11ea_b60b_d83bbfb109dfrow2_col2\" class=\"data row2 col2\" >72</td>\n",
       "            </tr>\n",
       "            <tr>\n",
       "                        <th id=\"T_f7146540_f9df_11ea_b60b_d83bbfb109dflevel0_row3\" class=\"row_heading level0 row3\" >1408</th>\n",
       "                        <td id=\"T_f7146540_f9df_11ea_b60b_d83bbfb109dfrow3_col0\" class=\"data row3 col0\" >tt0361089</td>\n",
       "                        <td id=\"T_f7146540_f9df_11ea_b60b_d83bbfb109dfrow3_col1\" class=\"data row3 col1\" >Valiant</td>\n",
       "                        <td id=\"T_f7146540_f9df_11ea_b60b_d83bbfb109dfrow3_col2\" class=\"data row3 col2\" >76</td>\n",
       "            </tr>\n",
       "            <tr>\n",
       "                        <th id=\"T_f7146540_f9df_11ea_b60b_d83bbfb109dflevel0_row4\" class=\"row_heading level0 row4\" >1626</th>\n",
       "                        <td id=\"T_f7146540_f9df_11ea_b60b_d83bbfb109dfrow4_col0\" class=\"data row4 col0\" >tt0299172</td>\n",
       "                        <td id=\"T_f7146540_f9df_11ea_b60b_d83bbfb109dfrow4_col1\" class=\"data row4 col1\" >Home on the Range</td>\n",
       "                        <td id=\"T_f7146540_f9df_11ea_b60b_d83bbfb109dfrow4_col2\" class=\"data row4 col2\" >76</td>\n",
       "            </tr>\n",
       "    </tbody></table>"
      ],
      "text/plain": [
       "<pandas.io.formats.style.Styler at 0x1bcab079608>"
      ]
     },
     "execution_count": 206,
     "metadata": {},
     "output_type": "execute_result"
    }
   ],
   "source": [
    "data[['imdb_id','original_title','runtime']].nsmallest(5, 'runtime').style.highlight_min(color = 'lightblue', axis = 0)"
   ]
  },
  {
   "cell_type": "markdown",
   "metadata": {
    "colab_type": "text",
    "id": "TfQbxbfNVp-p"
   },
   "source": [
    "# 4. Какова средняя длительность фильмов?\n"
   ]
  },
  {
   "cell_type": "code",
   "execution_count": 207,
   "metadata": {
    "colab": {},
    "colab_type": "code",
    "id": "5K6dKZYVVp-q"
   },
   "outputs": [],
   "source": [
    "answers['4'] = round(data['runtime'].mean(),0)#+"
   ]
  },
  {
   "cell_type": "code",
   "execution_count": 208,
   "metadata": {},
   "outputs": [
    {
     "data": {
      "text/plain": [
       "110.0"
      ]
     },
     "execution_count": 208,
     "metadata": {},
     "output_type": "execute_result"
    }
   ],
   "source": [
    "round(data['runtime'].mean(),0)"
   ]
  },
  {
   "cell_type": "markdown",
   "metadata": {
    "colab_type": "text",
    "id": "r5TvbnT_Vp-u"
   },
   "source": [
    "# 5. Каково медианное значение длительности фильмов? "
   ]
  },
  {
   "cell_type": "code",
   "execution_count": 209,
   "metadata": {
    "colab": {},
    "colab_type": "code",
    "id": "iBROplKnVp-v"
   },
   "outputs": [],
   "source": [
    "answers['5'] = round(data['runtime'].median(),0)#+"
   ]
  },
  {
   "cell_type": "code",
   "execution_count": 210,
   "metadata": {},
   "outputs": [
    {
     "data": {
      "text/plain": [
       "107.0"
      ]
     },
     "execution_count": 210,
     "metadata": {},
     "output_type": "execute_result"
    }
   ],
   "source": [
    "round(data['runtime'].median(),0)"
   ]
  },
  {
   "cell_type": "markdown",
   "metadata": {
    "colab_type": "text",
    "id": "39P-deDSVp-y"
   },
   "source": [
    "# 6. Какой самый прибыльный фильм?\n",
    "#### Внимание! Здесь и далее под «прибылью» или «убытками» понимается разность между сборами и бюджетом фильма. (прибыль = сборы - бюджет) в нашем датасете это будет (profit = revenue - budget) "
   ]
  },
  {
   "cell_type": "code",
   "execution_count": 211,
   "metadata": {},
   "outputs": [],
   "source": [
    "answers['6'] = data[data['profit']==data['profit'].max()]['original_title'].item() #+"
   ]
  },
  {
   "cell_type": "code",
   "execution_count": 212,
   "metadata": {},
   "outputs": [
    {
     "data": {
      "text/html": [
       "<style  type=\"text/css\" >\n",
       "    #T_f733ad3a_f9df_11ea_9ad0_d83bbfb109dfrow0_col1 {\n",
       "            background-color:  lightgreen;\n",
       "        }</style><table id=\"T_f733ad3a_f9df_11ea_9ad0_d83bbfb109df\" ><thead>    <tr>        <th class=\"blank level0\" ></th>        <th class=\"col_heading level0 col0\" >original_title</th>        <th class=\"col_heading level0 col1\" >profit</th>    </tr></thead><tbody>\n",
       "                <tr>\n",
       "                        <th id=\"T_f733ad3a_f9df_11ea_9ad0_d83bbfb109dflevel0_row0\" class=\"row_heading level0 row0\" >239</th>\n",
       "                        <td id=\"T_f733ad3a_f9df_11ea_9ad0_d83bbfb109dfrow0_col0\" class=\"data row0 col0\" >Avatar</td>\n",
       "                        <td id=\"T_f733ad3a_f9df_11ea_9ad0_d83bbfb109dfrow0_col1\" class=\"data row0 col1\" >2544505847</td>\n",
       "            </tr>\n",
       "            <tr>\n",
       "                        <th id=\"T_f733ad3a_f9df_11ea_9ad0_d83bbfb109dflevel0_row1\" class=\"row_heading level0 row1\" >3</th>\n",
       "                        <td id=\"T_f733ad3a_f9df_11ea_9ad0_d83bbfb109dfrow1_col0\" class=\"data row1 col0\" >Star Wars: The Force Awakens</td>\n",
       "                        <td id=\"T_f733ad3a_f9df_11ea_9ad0_d83bbfb109dfrow1_col1\" class=\"data row1 col1\" >1868178225</td>\n",
       "            </tr>\n",
       "            <tr>\n",
       "                        <th id=\"T_f733ad3a_f9df_11ea_9ad0_d83bbfb109dflevel0_row2\" class=\"row_heading level0 row2\" >0</th>\n",
       "                        <td id=\"T_f733ad3a_f9df_11ea_9ad0_d83bbfb109dfrow2_col0\" class=\"data row2 col0\" >Jurassic World</td>\n",
       "                        <td id=\"T_f733ad3a_f9df_11ea_9ad0_d83bbfb109dfrow2_col1\" class=\"data row2 col1\" >1363528810</td>\n",
       "            </tr>\n",
       "            <tr>\n",
       "                        <th id=\"T_f733ad3a_f9df_11ea_9ad0_d83bbfb109dflevel0_row3\" class=\"row_heading level0 row3\" >4</th>\n",
       "                        <td id=\"T_f733ad3a_f9df_11ea_9ad0_d83bbfb109dfrow3_col0\" class=\"data row3 col0\" >Furious 7</td>\n",
       "                        <td id=\"T_f733ad3a_f9df_11ea_9ad0_d83bbfb109dfrow3_col1\" class=\"data row3 col1\" >1316249360</td>\n",
       "            </tr>\n",
       "            <tr>\n",
       "                        <th id=\"T_f733ad3a_f9df_11ea_9ad0_d83bbfb109dflevel0_row4\" class=\"row_heading level0 row4\" >970</th>\n",
       "                        <td id=\"T_f733ad3a_f9df_11ea_9ad0_d83bbfb109dfrow4_col0\" class=\"data row4 col0\" >The Avengers</td>\n",
       "                        <td id=\"T_f733ad3a_f9df_11ea_9ad0_d83bbfb109dfrow4_col1\" class=\"data row4 col1\" >1299557910</td>\n",
       "            </tr>\n",
       "    </tbody></table>"
      ],
      "text/plain": [
       "<pandas.io.formats.style.Styler at 0x1bcab23c7c8>"
      ]
     },
     "execution_count": 212,
     "metadata": {},
     "output_type": "execute_result"
    }
   ],
   "source": [
    "data[['original_title','profit']].nlargest(5, 'profit').style.highlight_max(color = 'lightgreen', axis = 0)"
   ]
  },
  {
   "cell_type": "markdown",
   "metadata": {
    "colab_type": "text",
    "id": "M99JmIX4Vp-2"
   },
   "source": [
    "# 7. Какой фильм самый убыточный? "
   ]
  },
  {
   "cell_type": "code",
   "execution_count": 213,
   "metadata": {
    "colab": {},
    "colab_type": "code",
    "id": "w-D2m4XPVp-3"
   },
   "outputs": [],
   "source": [
    "answers['7'] = data[data['profit']==data['profit'].min()]['original_title'].item() #+"
   ]
  },
  {
   "cell_type": "code",
   "execution_count": 214,
   "metadata": {},
   "outputs": [
    {
     "data": {
      "text/html": [
       "<style  type=\"text/css\" >\n",
       "    #T_f7438bc0_f9df_11ea_976a_d83bbfb109dfrow0_col2 {\n",
       "            background-color:  lightblue;\n",
       "        }</style><table id=\"T_f7438bc0_f9df_11ea_976a_d83bbfb109df\" ><thead>    <tr>        <th class=\"blank level0\" ></th>        <th class=\"col_heading level0 col0\" >imdb_id</th>        <th class=\"col_heading level0 col1\" >original_title</th>        <th class=\"col_heading level0 col2\" >profit</th>    </tr></thead><tbody>\n",
       "                <tr>\n",
       "                        <th id=\"T_f7438bc0_f9df_11ea_976a_d83bbfb109dflevel0_row0\" class=\"row_heading level0 row0\" >1245</th>\n",
       "                        <td id=\"T_f7438bc0_f9df_11ea_976a_d83bbfb109dfrow0_col0\" class=\"data row0 col0\" >tt1210819</td>\n",
       "                        <td id=\"T_f7438bc0_f9df_11ea_976a_d83bbfb109dfrow0_col1\" class=\"data row0 col1\" >The Lone Ranger</td>\n",
       "                        <td id=\"T_f7438bc0_f9df_11ea_976a_d83bbfb109dfrow0_col2\" class=\"data row0 col2\" >-165710090</td>\n",
       "            </tr>\n",
       "            <tr>\n",
       "                        <th id=\"T_f7438bc0_f9df_11ea_976a_d83bbfb109dflevel0_row1\" class=\"row_heading level0 row1\" >1616</th>\n",
       "                        <td id=\"T_f7438bc0_f9df_11ea_976a_d83bbfb109dfrow1_col0\" class=\"data row1 col0\" >tt0318974</td>\n",
       "                        <td id=\"T_f7438bc0_f9df_11ea_976a_d83bbfb109dfrow1_col1\" class=\"data row1 col1\" >The Alamo</td>\n",
       "                        <td id=\"T_f7438bc0_f9df_11ea_976a_d83bbfb109dfrow1_col2\" class=\"data row1 col2\" >-119180039</td>\n",
       "            </tr>\n",
       "            <tr>\n",
       "                        <th id=\"T_f7438bc0_f9df_11ea_976a_d83bbfb109dflevel0_row2\" class=\"row_heading level0 row2\" >809</th>\n",
       "                        <td id=\"T_f7438bc0_f9df_11ea_976a_d83bbfb109dfrow2_col0\" class=\"data row2 col0\" >tt1305591</td>\n",
       "                        <td id=\"T_f7438bc0_f9df_11ea_976a_d83bbfb109dfrow2_col1\" class=\"data row2 col1\" >Mars Needs Moms</td>\n",
       "                        <td id=\"T_f7438bc0_f9df_11ea_976a_d83bbfb109dfrow2_col2\" class=\"data row2 col2\" >-111007242</td>\n",
       "            </tr>\n",
       "            <tr>\n",
       "                        <th id=\"T_f7438bc0_f9df_11ea_976a_d83bbfb109dflevel0_row3\" class=\"row_heading level0 row3\" >958</th>\n",
       "                        <td id=\"T_f7438bc0_f9df_11ea_976a_d83bbfb109dfrow3_col0\" class=\"data row3 col0\" >tt0180052</td>\n",
       "                        <td id=\"T_f7438bc0_f9df_11ea_976a_d83bbfb109dfrow3_col1\" class=\"data row3 col1\" >The Adventures of Pluto Nash</td>\n",
       "                        <td id=\"T_f7438bc0_f9df_11ea_976a_d83bbfb109dfrow3_col2\" class=\"data row3 col2\" >-92896027</td>\n",
       "            </tr>\n",
       "            <tr>\n",
       "                        <th id=\"T_f7438bc0_f9df_11ea_976a_d83bbfb109dflevel0_row4\" class=\"row_heading level0 row4\" >1464</th>\n",
       "                        <td id=\"T_f7438bc0_f9df_11ea_976a_d83bbfb109dfrow4_col0\" class=\"data row4 col0\" >tt0424095</td>\n",
       "                        <td id=\"T_f7438bc0_f9df_11ea_976a_d83bbfb109dfrow4_col1\" class=\"data row4 col1\" >Flushed Away</td>\n",
       "                        <td id=\"T_f7438bc0_f9df_11ea_976a_d83bbfb109dfrow4_col2\" class=\"data row4 col2\" >-84540684</td>\n",
       "            </tr>\n",
       "    </tbody></table>"
      ],
      "text/plain": [
       "<pandas.io.formats.style.Styler at 0x1bcab0b2548>"
      ]
     },
     "execution_count": 214,
     "metadata": {},
     "output_type": "execute_result"
    }
   ],
   "source": [
    "data[['imdb_id','original_title','profit']].nsmallest(5, 'profit').style.highlight_min(color = 'lightblue', axis = 0)"
   ]
  },
  {
   "cell_type": "markdown",
   "metadata": {
    "colab_type": "text",
    "id": "wEOM5ERVVp-6"
   },
   "source": [
    "# 8. У скольких фильмов из датасета объем сборов оказался выше бюджета?"
   ]
  },
  {
   "cell_type": "code",
   "execution_count": 215,
   "metadata": {
    "colab": {},
    "colab_type": "code",
    "id": "y00_7HD6Vp-7"
   },
   "outputs": [],
   "source": [
    "answers['8'] = data[data['revenue']>data['budget']]['imdb_id'].nunique() #+"
   ]
  },
  {
   "cell_type": "code",
   "execution_count": 216,
   "metadata": {},
   "outputs": [
    {
     "data": {
      "text/plain": [
       "1478"
      ]
     },
     "execution_count": 216,
     "metadata": {},
     "output_type": "execute_result"
    }
   ],
   "source": [
    "data[data['revenue']>data['budget']]['imdb_id'].nunique()"
   ]
  },
  {
   "cell_type": "markdown",
   "metadata": {
    "colab_type": "text",
    "id": "xhpspA9KVp_A"
   },
   "source": [
    "# 9. Какой фильм оказался самым кассовым в 2008 году?"
   ]
  },
  {
   "cell_type": "code",
   "execution_count": 217,
   "metadata": {},
   "outputs": [],
   "source": [
    "answers['9'] = data[(data['release_year'] == 2008)].nlargest(1, 'profit')['original_title'].item() #+"
   ]
  },
  {
   "cell_type": "code",
   "execution_count": 218,
   "metadata": {
    "colab": {},
    "colab_type": "code",
    "id": "MoUyQr9RVp_B"
   },
   "outputs": [
    {
     "data": {
      "text/html": [
       "<style  type=\"text/css\" >\n",
       "    #T_f757afec_f9df_11ea_b9b4_d83bbfb109dfrow0_col1 {\n",
       "            background-color:  lightgreen;\n",
       "        }</style><table id=\"T_f757afec_f9df_11ea_b9b4_d83bbfb109df\" ><thead>    <tr>        <th class=\"blank level0\" ></th>        <th class=\"col_heading level0 col0\" >original_title</th>        <th class=\"col_heading level0 col1\" >profit</th>    </tr></thead><tbody>\n",
       "                <tr>\n",
       "                        <th id=\"T_f757afec_f9df_11ea_b9b4_d83bbfb109dflevel0_row0\" class=\"row_heading level0 row0\" >599</th>\n",
       "                        <td id=\"T_f757afec_f9df_11ea_b9b4_d83bbfb109dfrow0_col0\" class=\"data row0 col0\" >The Dark Knight</td>\n",
       "                        <td id=\"T_f757afec_f9df_11ea_b9b4_d83bbfb109dfrow0_col1\" class=\"data row0 col1\" >816921825</td>\n",
       "            </tr>\n",
       "            <tr>\n",
       "                        <th id=\"T_f757afec_f9df_11ea_b9b4_d83bbfb109dflevel0_row1\" class=\"row_heading level0 row1\" >603</th>\n",
       "                        <td id=\"T_f757afec_f9df_11ea_b9b4_d83bbfb109dfrow1_col0\" class=\"data row1 col0\" >Indiana Jones and the Kingdom of the Crystal Skull</td>\n",
       "                        <td id=\"T_f757afec_f9df_11ea_b9b4_d83bbfb109dfrow1_col1\" class=\"data row1 col1\" >601636033</td>\n",
       "            </tr>\n",
       "            <tr>\n",
       "                        <th id=\"T_f757afec_f9df_11ea_b9b4_d83bbfb109dflevel0_row2\" class=\"row_heading level0 row2\" >607</th>\n",
       "                        <td id=\"T_f757afec_f9df_11ea_b9b4_d83bbfb109dfrow2_col0\" class=\"data row2 col0\" >Mamma Mia!</td>\n",
       "                        <td id=\"T_f757afec_f9df_11ea_b9b4_d83bbfb109dfrow2_col1\" class=\"data row2 col1\" >557841637</td>\n",
       "            </tr>\n",
       "            <tr>\n",
       "                        <th id=\"T_f757afec_f9df_11ea_b9b4_d83bbfb109dflevel0_row3\" class=\"row_heading level0 row3\" >606</th>\n",
       "                        <td id=\"T_f757afec_f9df_11ea_b9b4_d83bbfb109dfrow3_col0\" class=\"data row3 col0\" >Kung Fu Panda</td>\n",
       "                        <td id=\"T_f757afec_f9df_11ea_b9b4_d83bbfb109dfrow3_col1\" class=\"data row3 col1\" >501744560</td>\n",
       "            </tr>\n",
       "            <tr>\n",
       "                        <th id=\"T_f757afec_f9df_11ea_b9b4_d83bbfb109dflevel0_row4\" class=\"row_heading level0 row4\" >621</th>\n",
       "                        <td id=\"T_f757afec_f9df_11ea_b9b4_d83bbfb109dfrow4_col0\" class=\"data row4 col0\" >Hancock</td>\n",
       "                        <td id=\"T_f757afec_f9df_11ea_b9b4_d83bbfb109dfrow4_col1\" class=\"data row4 col1\" >474029371</td>\n",
       "            </tr>\n",
       "    </tbody></table>"
      ],
      "text/plain": [
       "<pandas.io.formats.style.Styler at 0x1bcab2520c8>"
      ]
     },
     "execution_count": 218,
     "metadata": {},
     "output_type": "execute_result"
    }
   ],
   "source": [
    "data[(data['release_year'] == 2008)][['original_title','profit']].nlargest(5, 'profit').style.highlight_max(color = 'lightgreen', axis = 0)"
   ]
  },
  {
   "cell_type": "markdown",
   "metadata": {
    "colab_type": "text",
    "id": "Zi4hDKidVp_F"
   },
   "source": [
    "# 10. Самый убыточный фильм за период с 2012 по 2014 г. (включительно)?\n"
   ]
  },
  {
   "cell_type": "code",
   "execution_count": 219,
   "metadata": {},
   "outputs": [],
   "source": [
    "answers['10'] = data[(data['release_year'] >= 2012)&(data['release_year'] <= 2014)].nsmallest(1, 'profit')['original_title'].item() #+"
   ]
  },
  {
   "cell_type": "code",
   "execution_count": 220,
   "metadata": {
    "colab": {},
    "colab_type": "code",
    "id": "XqyRmufJVp_F"
   },
   "outputs": [
    {
     "data": {
      "text/html": [
       "<style  type=\"text/css\" >\n",
       "    #T_f7631608_f9df_11ea_9bc6_d83bbfb109dfrow0_col1 {\n",
       "            background-color:  lightblue;\n",
       "        }</style><table id=\"T_f7631608_f9df_11ea_9bc6_d83bbfb109df\" ><thead>    <tr>        <th class=\"blank level0\" ></th>        <th class=\"col_heading level0 col0\" >original_title</th>        <th class=\"col_heading level0 col1\" >profit</th>    </tr></thead><tbody>\n",
       "                <tr>\n",
       "                        <th id=\"T_f7631608_f9df_11ea_9bc6_d83bbfb109dflevel0_row0\" class=\"row_heading level0 row0\" >1245</th>\n",
       "                        <td id=\"T_f7631608_f9df_11ea_9bc6_d83bbfb109dfrow0_col0\" class=\"data row0 col0\" >The Lone Ranger</td>\n",
       "                        <td id=\"T_f7631608_f9df_11ea_9bc6_d83bbfb109dfrow0_col1\" class=\"data row0 col1\" >-165710090</td>\n",
       "            </tr>\n",
       "            <tr>\n",
       "                        <th id=\"T_f7631608_f9df_11ea_9bc6_d83bbfb109dflevel0_row1\" class=\"row_heading level0 row1\" >1214</th>\n",
       "                        <td id=\"T_f7631608_f9df_11ea_9bc6_d83bbfb109dfrow1_col0\" class=\"data row1 col0\" >R.I.P.D.</td>\n",
       "                        <td id=\"T_f7631608_f9df_11ea_9bc6_d83bbfb109dfrow1_col1\" class=\"data row1 col1\" >-68351500</td>\n",
       "            </tr>\n",
       "            <tr>\n",
       "                        <th id=\"T_f7631608_f9df_11ea_9bc6_d83bbfb109dflevel0_row2\" class=\"row_heading level0 row2\" >1007</th>\n",
       "                        <td id=\"T_f7631608_f9df_11ea_9bc6_d83bbfb109dfrow2_col0\" class=\"data row2 col0\" >Upside Down</td>\n",
       "                        <td id=\"T_f7631608_f9df_11ea_9bc6_d83bbfb109dfrow2_col1\" class=\"data row2 col1\" >-51893525</td>\n",
       "            </tr>\n",
       "            <tr>\n",
       "                        <th id=\"T_f7631608_f9df_11ea_9bc6_d83bbfb109dflevel0_row3\" class=\"row_heading level0 row3\" >1302</th>\n",
       "                        <td id=\"T_f7631608_f9df_11ea_9bc6_d83bbfb109dfrow3_col0\" class=\"data row3 col0\" >Legends of Oz: Dorothy's Return</td>\n",
       "                        <td id=\"T_f7631608_f9df_11ea_9bc6_d83bbfb109dfrow3_col1\" class=\"data row3 col1\" >-51337973</td>\n",
       "            </tr>\n",
       "            <tr>\n",
       "                        <th id=\"T_f7631608_f9df_11ea_9bc6_d83bbfb109dflevel0_row4\" class=\"row_heading level0 row4\" >1235</th>\n",
       "                        <td id=\"T_f7631608_f9df_11ea_9bc6_d83bbfb109dfrow4_col0\" class=\"data row4 col0\" >Bullet to the Head</td>\n",
       "                        <td id=\"T_f7631608_f9df_11ea_9bc6_d83bbfb109dfrow4_col1\" class=\"data row4 col1\" >-45510171</td>\n",
       "            </tr>\n",
       "    </tbody></table>"
      ],
      "text/plain": [
       "<pandas.io.formats.style.Styler at 0x1bcab0ec848>"
      ]
     },
     "execution_count": 220,
     "metadata": {},
     "output_type": "execute_result"
    }
   ],
   "source": [
    "data[(data['release_year'] >= 2012)&(data['release_year'] <= 2014)][['original_title','profit']].nsmallest(5, 'profit').style.highlight_min(color = 'lightblue', axis = 0)"
   ]
  },
  {
   "cell_type": "markdown",
   "metadata": {
    "colab_type": "text",
    "id": "EA7Sa9dkVp_I"
   },
   "source": [
    "# 11. Какого жанра фильмов больше всего?"
   ]
  },
  {
   "cell_type": "code",
   "execution_count": 221,
   "metadata": {
    "colab": {},
    "colab_type": "code",
    "id": "otO3SbrSVp_N"
   },
   "outputs": [],
   "source": [
    "answers['11'] = data_per_genres.groupby(['genres'])['imdb_id'].nunique().nlargest(1).index.item() #+"
   ]
  },
  {
   "cell_type": "code",
   "execution_count": 222,
   "metadata": {},
   "outputs": [
    {
     "data": {
      "text/plain": [
       "<matplotlib.axes._subplots.AxesSubplot at 0x1bcab23c808>"
      ]
     },
     "execution_count": 222,
     "metadata": {},
     "output_type": "execute_result"
    },
    {
     "data": {
      "image/png": "[encoded data removed]",
      "text/plain": [
       "<Figure size 432x288 with 1 Axes>"
      ]
     },
     "metadata": {
      "needs_background": "light"
     },
     "output_type": "display_data"
    }
   ],
   "source": [
    "data_per_genres.groupby(['genres'])['imdb_id'].nunique().sort_values(ascending=True).plot(kind = 'barh', x = 'genres')"
   ]
  },
  {
   "cell_type": "markdown",
   "metadata": {
    "colab_type": "text",
    "id": "T9_bPWpkVp_Q"
   },
   "source": [
    "# 12. Фильмы какого жанра чаще всего становятся прибыльными? "
   ]
  },
  {
   "cell_type": "code",
   "execution_count": 223,
   "metadata": {
    "colab": {},
    "colab_type": "code",
    "id": "Tmt8MaK1Vp_R"
   },
   "outputs": [],
   "source": [
    "answers['12'] = data_per_genres[data_per_genres['profit']>0].groupby(['genres'])['imdb_id'].nunique().nlargest(1).index.item() #+"
   ]
  },
  {
   "cell_type": "code",
   "execution_count": 224,
   "metadata": {},
   "outputs": [
    {
     "data": {
      "text/plain": [
       "<matplotlib.axes._subplots.AxesSubplot at 0x1bcab16b848>"
      ]
     },
     "execution_count": 224,
     "metadata": {},
     "output_type": "execute_result"
    },
    {
     "data": {
      "image/png": "[encoded data removed]",
      "text/plain": [
       "<Figure size 432x288 with 1 Axes>"
      ]
     },
     "metadata": {
      "needs_background": "light"
     },
     "output_type": "display_data"
    }
   ],
   "source": [
    "data_per_genres[data_per_genres['profit']>0].groupby(['genres'])['imdb_id'].nunique().sort_values(ascending=True).plot(kind = 'barh', x = 'genres')"
   ]
  },
  {
   "cell_type": "markdown",
   "metadata": {
    "colab_type": "text",
    "id": "0F23bgsDVp_U"
   },
   "source": [
    "# 13. У какого режиссера самые большие суммарные кассовые сбооры?"
   ]
  },
  {
   "cell_type": "code",
   "execution_count": 225,
   "metadata": {
    "colab": {},
    "colab_type": "code",
    "id": "K6Z3J8ygVp_X"
   },
   "outputs": [],
   "source": [
    "answers['13'] = data_per_director.groupby(['director'])['profit'].sum().nlargest(1).index.item() #+"
   ]
  },
  {
   "cell_type": "code",
   "execution_count": 226,
   "metadata": {},
   "outputs": [
    {
     "data": {
      "text/plain": [
       "<matplotlib.axes._subplots.AxesSubplot at 0x1bca316a508>"
      ]
     },
     "execution_count": 226,
     "metadata": {},
     "output_type": "execute_result"
    },
    {
     "data": {
      "image/png": "[encoded data removed]",
      "text/plain": [
       "<Figure size 432x288 with 1 Axes>"
      ]
     },
     "metadata": {
      "needs_background": "light"
     },
     "output_type": "display_data"
    }
   ],
   "source": [
    "data_per_director.groupby(['director'])['profit'].sum().nlargest(10).sort_values(ascending=True).plot(kind = 'barh', x = 'director')"
   ]
  },
  {
   "cell_type": "markdown",
   "metadata": {
    "colab_type": "text",
    "id": "PsYC9FgRVp_a"
   },
   "source": [
    "# 14. Какой режисер снял больше всего фильмов в стиле Action?"
   ]
  },
  {
   "cell_type": "code",
   "execution_count": 227,
   "metadata": {
    "colab": {},
    "colab_type": "code",
    "id": "wd2M-wHeVp_b"
   },
   "outputs": [],
   "source": [
    "answers['14'] = data_per_director[data_per_director['genres_str'].str.contains('Action')].groupby(['director'])['imdb_id'].nunique().nlargest(1).index.item() #+"
   ]
  },
  {
   "cell_type": "code",
   "execution_count": 228,
   "metadata": {},
   "outputs": [
    {
     "data": {
      "text/plain": [
       "<matplotlib.axes._subplots.AxesSubplot at 0x1bcab267c88>"
      ]
     },
     "execution_count": 228,
     "metadata": {},
     "output_type": "execute_result"
    },
    {
     "data": {
      "image/png": "[encoded data removed]",
      "text/plain": [
       "<Figure size 432x288 with 1 Axes>"
      ]
     },
     "metadata": {
      "needs_background": "light"
     },
     "output_type": "display_data"
    }
   ],
   "source": [
    "data_per_director[data_per_director['genres_str'].str.contains('Action')].groupby(['director'])['imdb_id'].nunique().nlargest(10).sort_values(ascending=True).plot(kind = 'barh', x = 'director')"
   ]
  },
  {
   "cell_type": "markdown",
   "metadata": {
    "colab_type": "text",
    "id": "PQ0KciD7Vp_f"
   },
   "source": [
    "# 15. Фильмы с каким актером принесли самые высокие кассовые сборы в 2012 году? "
   ]
  },
  {
   "cell_type": "code",
   "execution_count": 229,
   "metadata": {
    "colab": {},
    "colab_type": "code",
    "id": "aga62oeKVp_g"
   },
   "outputs": [],
   "source": [
    "answers['15'] = data_per_cast[data_per_cast['release_year'] == 2012].groupby(['cast'])['profit'].sum().nlargest(1).index.item() #+"
   ]
  },
  {
   "cell_type": "code",
   "execution_count": 230,
   "metadata": {},
   "outputs": [
    {
     "data": {
      "text/plain": [
       "<matplotlib.axes._subplots.AxesSubplot at 0x1bcab025f08>"
      ]
     },
     "execution_count": 230,
     "metadata": {},
     "output_type": "execute_result"
    },
    {
     "data": {
      "image/png": "[encoded data removed]",
      "text/plain": [
       "<Figure size 432x288 with 1 Axes>"
      ]
     },
     "metadata": {
      "needs_background": "light"
     },
     "output_type": "display_data"
    }
   ],
   "source": [
    "data_per_cast[data_per_cast['release_year'] == 2012].groupby(['cast'])['profit'].sum().nlargest(10).sort_values(ascending=True).plot(kind = 'barh', x = 'director')"
   ]
  },
  {
   "cell_type": "markdown",
   "metadata": {
    "colab_type": "text",
    "id": "mWHyyL7QVp_j"
   },
   "source": [
    "# 16. Какой актер снялся в большем количестве высокобюджетных фильмов?"
   ]
  },
  {
   "cell_type": "code",
   "execution_count": 231,
   "metadata": {
    "colab": {},
    "colab_type": "code",
    "id": "qQtmHKTFVp_k"
   },
   "outputs": [],
   "source": [
    "answers['16'] = data_per_cast[data_per_cast['budget']>data['budget'].mean()].groupby(['cast'])['imdb_id'].nunique().nlargest(1).index.item() #+"
   ]
  },
  {
   "cell_type": "code",
   "execution_count": 232,
   "metadata": {},
   "outputs": [
    {
     "data": {
      "text/plain": [
       "<matplotlib.axes._subplots.AxesSubplot at 0x1bcab7d51c8>"
      ]
     },
     "execution_count": 232,
     "metadata": {},
     "output_type": "execute_result"
    },
    {
     "data": {
      "image/png": "[encoded data removed]",
      "text/plain": [
       "<Figure size 432x288 with 1 Axes>"
      ]
     },
     "metadata": {
      "needs_background": "light"
     },
     "output_type": "display_data"
    }
   ],
   "source": [
    "data_per_cast[data_per_cast['budget']>data['budget'].mean()].groupby(['cast'])['imdb_id'].nunique().nlargest(10).sort_values(ascending=True).plot(kind = 'barh', x = 'cast')"
   ]
  },
  {
   "cell_type": "markdown",
   "metadata": {
    "colab_type": "text",
    "id": "NIh6AaW5Vp_n"
   },
   "source": [
    "# 17. В фильмах какого жанра больше всего снимался Nicolas Cage? "
   ]
  },
  {
   "cell_type": "code",
   "execution_count": 233,
   "metadata": {},
   "outputs": [],
   "source": [
    "answers['17'] = data_per_genres[data_per_genres['cast_str'].str.contains('Nicolas Cage')].groupby(['genres'])['imdb_id'].nunique().nlargest(1).index.item() #+"
   ]
  },
  {
   "cell_type": "code",
   "execution_count": 234,
   "metadata": {
    "colab": {},
    "colab_type": "code",
    "id": "H74SJDIBVp_n"
   },
   "outputs": [
    {
     "data": {
      "text/plain": [
       "<matplotlib.axes._subplots.AxesSubplot at 0x1bcab91c208>"
      ]
     },
     "execution_count": 234,
     "metadata": {},
     "output_type": "execute_result"
    },
    {
     "data": {
      "image/png": "[encoded data removed]",
      "text/plain": [
       "<Figure size 432x288 with 1 Axes>"
      ]
     },
     "metadata": {
      "needs_background": "light"
     },
     "output_type": "display_data"
    }
   ],
   "source": [
    "data_per_genres[data_per_genres['cast_str'].str.contains('Nicolas Cage')].groupby(['genres'])['imdb_id'].nunique().nlargest(10).sort_values(ascending=True).plot(kind = 'barh', x = 'genre')"
   ]
  },
  {
   "cell_type": "markdown",
   "metadata": {
    "colab_type": "text",
    "id": "RqOmPRfWVp_q"
   },
   "source": [
    "# 18. Самый убыточный фильм от Paramount Pictures"
   ]
  },
  {
   "cell_type": "code",
   "execution_count": 235,
   "metadata": {
    "colab": {},
    "colab_type": "code",
    "id": "9E_B0Y96Vp_r"
   },
   "outputs": [],
   "source": [
    "answers['18'] = data[data['production_companies_str'].str.contains('Paramount Pictures')].groupby(['imdb_id','original_title'])['profit'].sum().nsmallest(1).index.item() #+"
   ]
  },
  {
   "cell_type": "code",
   "execution_count": 236,
   "metadata": {},
   "outputs": [
    {
     "data": {
      "text/plain": [
       "<matplotlib.axes._subplots.AxesSubplot at 0x1bcab7aa788>"
      ]
     },
     "execution_count": 236,
     "metadata": {},
     "output_type": "execute_result"
    },
    {
     "data": {
      "image/png": "[encoded data removed]",
      "text/plain": [
       "<Figure size 432x288 with 1 Axes>"
      ]
     },
     "metadata": {
      "needs_background": "light"
     },
     "output_type": "display_data"
    }
   ],
   "source": [
    "data[data['production_companies_str'].str.contains('Paramount Pictures')].groupby(['imdb_id','original_title'])['profit'].sum().nsmallest(10).sort_values(ascending=False).plot(kind = 'barh', x = 'original_title')"
   ]
  },
  {
   "cell_type": "markdown",
   "metadata": {
    "colab_type": "text",
    "id": "vS8Ur6ddVp_u"
   },
   "source": [
    "# 19. Какой год стал самым успешным по суммарным кассовым сборам?"
   ]
  },
  {
   "cell_type": "code",
   "execution_count": 237,
   "metadata": {},
   "outputs": [],
   "source": [
    "answers['19'] = data.groupby(['release_year'])['profit'].sum().nlargest(1).index.item() #+"
   ]
  },
  {
   "cell_type": "code",
   "execution_count": 238,
   "metadata": {
    "colab": {},
    "colab_type": "code",
    "id": "Dnbt4GdIVp_v"
   },
   "outputs": [
    {
     "data": {
      "text/plain": [
       "<matplotlib.axes._subplots.AxesSubplot at 0x1bcab8aab08>"
      ]
     },
     "execution_count": 238,
     "metadata": {},
     "output_type": "execute_result"
    },
    {
     "data": {
      "image/png": "[encoded data removed]",
      "text/plain": [
       "<Figure size 432x288 with 1 Axes>"
      ]
     },
     "metadata": {
      "needs_background": "light"
     },
     "output_type": "display_data"
    }
   ],
   "source": [
    "data.groupby(['release_year'])['profit'].sum().nlargest(10).sort_values(ascending=True).plot(kind = 'barh', x = 'release_year')"
   ]
  },
  {
   "cell_type": "markdown",
   "metadata": {
    "colab_type": "text",
    "id": "JAzJh4QAVp_z"
   },
   "source": [
    "# 20. Какой самый прибыльный год для студии Warner Bros?"
   ]
  },
  {
   "cell_type": "code",
   "execution_count": 239,
   "metadata": {
    "colab": {},
    "colab_type": "code",
    "id": "wgVu02DEVp_0"
   },
   "outputs": [],
   "source": [
    "answers['20'] = data[data['production_companies_str'].str.contains('Warner Bros')].groupby(['release_year'])['profit'].sum().nlargest(1).index.item() #+"
   ]
  },
  {
   "cell_type": "code",
   "execution_count": 240,
   "metadata": {},
   "outputs": [
    {
     "data": {
      "text/plain": [
       "<matplotlib.axes._subplots.AxesSubplot at 0x1bcab975dc8>"
      ]
     },
     "execution_count": 240,
     "metadata": {},
     "output_type": "execute_result"
    },
    {
     "data": {
      "image/png": "[encoded data removed]",
      "text/plain": [
       "<Figure size 432x288 with 1 Axes>"
      ]
     },
     "metadata": {
      "needs_background": "light"
     },
     "output_type": "display_data"
    }
   ],
   "source": [
    "data[data['production_companies_str'].str.contains('Warner Bros')].groupby(['release_year'])['profit'].sum().nlargest(10).sort_values(ascending=True).plot(kind = 'barh', x = 'release_year')"
   ]
  },
  {
   "cell_type": "markdown",
   "metadata": {
    "colab_type": "text",
    "id": "8Im1S2HRVp_4"
   },
   "source": [
    "# 21. В каком месяце за все годы суммарно вышло больше всего фильмов?"
   ]
  },
  {
   "cell_type": "code",
   "execution_count": 241,
   "metadata": {},
   "outputs": [],
   "source": [
    "answers['21'] = data.groupby(['release_month'])['imdb_id'].nunique().nlargest(1).index.item() #+"
   ]
  },
  {
   "cell_type": "code",
   "execution_count": 242,
   "metadata": {
    "colab": {},
    "colab_type": "code",
    "id": "lev6TH7gVp_4"
   },
   "outputs": [
    {
     "data": {
      "text/plain": [
       "<matplotlib.axes._subplots.AxesSubplot at 0x1bcab9f1788>"
      ]
     },
     "execution_count": 242,
     "metadata": {},
     "output_type": "execute_result"
    },
    {
     "data": {
      "image/png": "[encoded data removed]",
      "text/plain": [
       "<Figure size 432x288 with 1 Axes>"
      ]
     },
     "metadata": {
      "needs_background": "light"
     },
     "output_type": "display_data"
    }
   ],
   "source": [
    "data.groupby(['release_month'])['imdb_id'].nunique().sort_values(ascending=True).plot(kind = 'barh', x = 'release_month')"
   ]
  },
  {
   "cell_type": "markdown",
   "metadata": {
    "colab_type": "text",
    "id": "uAJsZ_NeVp_7"
   },
   "source": [
    "# 22. Сколько суммарно вышло фильмов летом? (за июнь, июль, август)"
   ]
  },
  {
   "cell_type": "code",
   "execution_count": 243,
   "metadata": {
    "colab": {},
    "colab_type": "code",
    "id": "Aa-hEREoVp_8"
   },
   "outputs": [],
   "source": [
    "answers['22'] = data[data['release_month'].isin([6,7,8])]['imdb_id'].nunique() #+"
   ]
  },
  {
   "cell_type": "code",
   "execution_count": 244,
   "metadata": {},
   "outputs": [
    {
     "data": {
      "text/plain": [
       "450"
      ]
     },
     "execution_count": 244,
     "metadata": {},
     "output_type": "execute_result"
    }
   ],
   "source": [
    "data[data['release_month'].isin([6,7,8])]['imdb_id'].nunique()"
   ]
  },
  {
   "cell_type": "markdown",
   "metadata": {
    "colab_type": "text",
    "id": "G94ppOY1VqAA"
   },
   "source": [
    "# 23. Для какого режиссера зима – самое продуктивное время года? "
   ]
  },
  {
   "cell_type": "code",
   "execution_count": 245,
   "metadata": {
    "colab": {},
    "colab_type": "code",
    "id": "RhNTsamuVqAB"
   },
   "outputs": [],
   "source": [
    "answers['23'] = data_per_director[data_per_director['release_month'].isin([12,1,2])].groupby(['director'])['imdb_id'].nunique().nlargest(1).index.item() #+"
   ]
  },
  {
   "cell_type": "code",
   "execution_count": 246,
   "metadata": {},
   "outputs": [
    {
     "data": {
      "text/plain": [
       "<matplotlib.axes._subplots.AxesSubplot at 0x1bcaba84448>"
      ]
     },
     "execution_count": 246,
     "metadata": {},
     "output_type": "execute_result"
    },
    {
     "data": {
      "image/png": "[encoded data removed]",
      "text/plain": [
       "<Figure size 432x288 with 1 Axes>"
      ]
     },
     "metadata": {
      "needs_background": "light"
     },
     "output_type": "display_data"
    }
   ],
   "source": [
    "data_per_director[data_per_director['release_month'].isin([12,1,2])].groupby(['director'])['imdb_id'].nunique().nlargest(10).sort_values(ascending=True).plot(kind = 'barh', x = 'director')"
   ]
  },
  {
   "cell_type": "markdown",
   "metadata": {
    "colab_type": "text",
    "id": "RBo0JVjVVqAF"
   },
   "source": [
    "# 24. Какая студия дает самые длинные названия своим фильмам по количеству символов?"
   ]
  },
  {
   "cell_type": "code",
   "execution_count": 247,
   "metadata": {
    "colab": {},
    "colab_type": "code",
    "id": "QRGS8L0iVqAG"
   },
   "outputs": [],
   "source": [
    "answers['24'] = data_per_company.groupby(['production_companies'])['title_length'].mean().nlargest(1).index.item() #+"
   ]
  },
  {
   "cell_type": "code",
   "execution_count": 248,
   "metadata": {},
   "outputs": [
    {
     "data": {
      "text/plain": [
       "<matplotlib.axes._subplots.AxesSubplot at 0x1bcaba63ec8>"
      ]
     },
     "execution_count": 248,
     "metadata": {},
     "output_type": "execute_result"
    },
    {
     "data": {
      "image/png": "[encoded data removed]",
      "text/plain": [
       "<Figure size 432x288 with 1 Axes>"
      ]
     },
     "metadata": {
      "needs_background": "light"
     },
     "output_type": "display_data"
    }
   ],
   "source": [
    "data_per_company.groupby(['production_companies'])['title_length'].mean().nlargest(10).sort_values(ascending=True).plot(kind = 'barh', x = 'production_companies')"
   ]
  },
  {
   "cell_type": "markdown",
   "metadata": {
    "colab_type": "text",
    "id": "9G0hbvR7VqAK"
   },
   "source": [
    "# 25. Описание фильмов какой студии в среднем самые длинные по количеству слов?"
   ]
  },
  {
   "cell_type": "code",
   "execution_count": 249,
   "metadata": {},
   "outputs": [],
   "source": [
    "answers['25'] = data_per_company.groupby(['production_companies'])['overview_lenght'].mean().nlargest(1).index.item() #+"
   ]
  },
  {
   "cell_type": "code",
   "execution_count": 250,
   "metadata": {
    "colab": {},
    "colab_type": "code",
    "id": "Ge2GsLNxVqAK"
   },
   "outputs": [
    {
     "data": {
      "text/plain": [
       "<matplotlib.axes._subplots.AxesSubplot at 0x1bcabb93d48>"
      ]
     },
     "execution_count": 250,
     "metadata": {},
     "output_type": "execute_result"
    },
    {
     "data": {
      "image/png": "[encoded data removed]",
      "text/plain": [
       "<Figure size 432x288 with 1 Axes>"
      ]
     },
     "metadata": {
      "needs_background": "light"
     },
     "output_type": "display_data"
    }
   ],
   "source": [
    "data_per_company.groupby(['production_companies'])['overview_lenght'].mean().nlargest(10).sort_values(ascending=True).plot(kind = 'barh', x = 'production_companies')"
   ]
  },
  {
   "cell_type": "markdown",
   "metadata": {
    "colab_type": "text",
    "id": "FJ1AFt90VqAP"
   },
   "source": [
    "# 26. Какие фильмы входят в 1 процент лучших по рейтингу? \n",
    "по vote_average"
   ]
  },
  {
   "cell_type": "code",
   "execution_count": 251,
   "metadata": {},
   "outputs": [],
   "source": [
    "answers['26'] = data[data['vote_average']>data['vote_average'].quantile(0.99)]['original_title'].tolist() #+"
   ]
  },
  {
   "cell_type": "code",
   "execution_count": 252,
   "metadata": {
    "colab": {},
    "colab_type": "code",
    "id": "8qmJVq4CVqAQ"
   },
   "outputs": [
    {
     "data": {
      "text/html": [
       "<div>\n",
       "<style scoped>\n",
       "    .dataframe tbody tr th:only-of-type {\n",
       "        vertical-align: middle;\n",
       "    }\n",
       "\n",
       "    .dataframe tbody tr th {\n",
       "        vertical-align: top;\n",
       "    }\n",
       "\n",
       "    .dataframe thead th {\n",
       "        text-align: right;\n",
       "    }\n",
       "</style>\n",
       "<table border=\"1\" class=\"dataframe\">\n",
       "  <thead>\n",
       "    <tr style=\"text-align: right;\">\n",
       "      <th></th>\n",
       "      <th>imdb_id</th>\n",
       "      <th>original_title</th>\n",
       "      <th>vote_average</th>\n",
       "    </tr>\n",
       "  </thead>\n",
       "  <tbody>\n",
       "    <tr>\n",
       "      <th>9</th>\n",
       "      <td>tt2096673</td>\n",
       "      <td>Inside Out</td>\n",
       "      <td>8.0</td>\n",
       "    </tr>\n",
       "    <tr>\n",
       "      <th>34</th>\n",
       "      <td>tt3170832</td>\n",
       "      <td>Room</td>\n",
       "      <td>8.0</td>\n",
       "    </tr>\n",
       "    <tr>\n",
       "      <th>118</th>\n",
       "      <td>tt0816692</td>\n",
       "      <td>Interstellar</td>\n",
       "      <td>8.0</td>\n",
       "    </tr>\n",
       "    <tr>\n",
       "      <th>119</th>\n",
       "      <td>tt2015381</td>\n",
       "      <td>Guardians of the Galaxy</td>\n",
       "      <td>7.9</td>\n",
       "    </tr>\n",
       "    <tr>\n",
       "      <th>125</th>\n",
       "      <td>tt2084970</td>\n",
       "      <td>The Imitation Game</td>\n",
       "      <td>8.0</td>\n",
       "    </tr>\n",
       "    <tr>\n",
       "      <th>128</th>\n",
       "      <td>tt2267998</td>\n",
       "      <td>Gone Girl</td>\n",
       "      <td>7.9</td>\n",
       "    </tr>\n",
       "    <tr>\n",
       "      <th>138</th>\n",
       "      <td>tt2278388</td>\n",
       "      <td>The Grand Budapest Hotel</td>\n",
       "      <td>7.9</td>\n",
       "    </tr>\n",
       "    <tr>\n",
       "      <th>370</th>\n",
       "      <td>tt1375666</td>\n",
       "      <td>Inception</td>\n",
       "      <td>7.9</td>\n",
       "    </tr>\n",
       "    <tr>\n",
       "      <th>599</th>\n",
       "      <td>tt0468569</td>\n",
       "      <td>The Dark Knight</td>\n",
       "      <td>8.1</td>\n",
       "    </tr>\n",
       "    <tr>\n",
       "      <th>872</th>\n",
       "      <td>tt0253474</td>\n",
       "      <td>The Pianist</td>\n",
       "      <td>7.9</td>\n",
       "    </tr>\n",
       "    <tr>\n",
       "      <th>1081</th>\n",
       "      <td>tt0167260</td>\n",
       "      <td>The Lord of the Rings: The Return of the King</td>\n",
       "      <td>7.9</td>\n",
       "    </tr>\n",
       "    <tr>\n",
       "      <th>1183</th>\n",
       "      <td>tt0993846</td>\n",
       "      <td>The Wolf of Wall Street</td>\n",
       "      <td>7.9</td>\n",
       "    </tr>\n",
       "    <tr>\n",
       "      <th>1191</th>\n",
       "      <td>tt2024544</td>\n",
       "      <td>12 Years a Slave</td>\n",
       "      <td>7.9</td>\n",
       "    </tr>\n",
       "    <tr>\n",
       "      <th>1800</th>\n",
       "      <td>tt0209144</td>\n",
       "      <td>Memento</td>\n",
       "      <td>7.9</td>\n",
       "    </tr>\n",
       "  </tbody>\n",
       "</table>\n",
       "</div>"
      ],
      "text/plain": [
       "        imdb_id                                 original_title  vote_average\n",
       "9     tt2096673                                     Inside Out           8.0\n",
       "34    tt3170832                                           Room           8.0\n",
       "118   tt0816692                                   Interstellar           8.0\n",
       "119   tt2015381                        Guardians of the Galaxy           7.9\n",
       "125   tt2084970                             The Imitation Game           8.0\n",
       "128   tt2267998                                      Gone Girl           7.9\n",
       "138   tt2278388                       The Grand Budapest Hotel           7.9\n",
       "370   tt1375666                                      Inception           7.9\n",
       "599   tt0468569                                The Dark Knight           8.1\n",
       "872   tt0253474                                    The Pianist           7.9\n",
       "1081  tt0167260  The Lord of the Rings: The Return of the King           7.9\n",
       "1183  tt0993846                        The Wolf of Wall Street           7.9\n",
       "1191  tt2024544                               12 Years a Slave           7.9\n",
       "1800  tt0209144                                        Memento           7.9"
      ]
     },
     "execution_count": 252,
     "metadata": {},
     "output_type": "execute_result"
    }
   ],
   "source": [
    "data[data['vote_average']>data['vote_average'].quantile(0.99)][['imdb_id', 'original_title','vote_average']]"
   ]
  },
  {
   "cell_type": "markdown",
   "metadata": {
    "colab_type": "text",
    "id": "MdXsUXbCVqAV"
   },
   "source": [
    "# 27. Какие актеры чаще всего снимаются в одном фильме вместе?\n"
   ]
  },
  {
   "cell_type": "code",
   "execution_count": 253,
   "metadata": {},
   "outputs": [],
   "source": [
    "answers['27'] = df_tot[df_tot['cast_x'] != df_tot['cast_y']]['combocast'].value_counts().nlargest(5) #+"
   ]
  },
  {
   "cell_type": "code",
   "execution_count": 254,
   "metadata": {},
   "outputs": [
    {
     "data": {
      "text/plain": [
       "{Daniel Radcliffe, Emma Watson}        16\n",
       "{Emma Watson, Rupert Grint}            16\n",
       "{Daniel Radcliffe, Rupert Grint}       16\n",
       "{Owen Wilson, Ben Stiller}             12\n",
       "{Helena Bonham Carter, Johnny Depp}    12\n",
       "Name: combocast, dtype: int64"
      ]
     },
     "execution_count": 254,
     "metadata": {},
     "output_type": "execute_result"
    }
   ],
   "source": [
    "answers['27']"
   ]
  },
  {
   "cell_type": "markdown",
   "metadata": {
    "colab_type": "text",
    "id": "4ymnxEVoVqAW"
   },
   "source": [
    "ВАРИАНТ 2"
   ]
  },
  {
   "cell_type": "code",
   "execution_count": 255,
   "metadata": {},
   "outputs": [
    {
     "data": {
      "text/plain": [
       "[(('Daniel Radcliffe', 'Rupert Grint'), 8),\n",
       " (('Daniel Radcliffe', 'Emma Watson'), 8),\n",
       " (('Rupert Grint', 'Emma Watson'), 8),\n",
       " (('Ben Stiller', 'Owen Wilson'), 6),\n",
       " (('Johnny Depp', 'Helena Bonham Carter'), 6)]"
      ]
     },
     "execution_count": 255,
     "metadata": {},
     "output_type": "execute_result"
    }
   ],
   "source": [
    "pairs = Counter()\n",
    "\n",
    "for actor in data['cast']:\n",
    "    for pair in list(combinations(actor, 2)):\n",
    "        pair_rev = pair[::-1]\n",
    "        if pair_rev not in pairs and pair not in pairs:\n",
    "            pairs[pair] = 1\n",
    "        elif pair_rev in pairs:\n",
    "            pairs[pair_rev] += 1\n",
    "        else:\n",
    "            pairs[pair] += 1\n",
    "pairs.most_common(5)"
   ]
  },
  {
   "cell_type": "markdown",
   "metadata": {
    "colab_type": "text",
    "id": "U0nONFnGVqAX"
   },
   "source": [
    "# Submission"
   ]
  },
  {
   "cell_type": "code",
   "execution_count": 256,
   "metadata": {
    "colab": {},
    "colab_type": "code",
    "id": "IfcaRO9-VqAX",
    "outputId": "0f132912-32bb-4196-c98c-abfbc4ad5a5f"
   },
   "outputs": [
    {
     "data": {
      "text/plain": [
       "{'1': 'Pirates of the Caribbean: On Stranger Tides',\n",
       " '2': 'Gods and Generals',\n",
       " '3': 'Winnie the Pooh',\n",
       " '4': 110.0,\n",
       " '5': 107.0,\n",
       " '6': 'Avatar',\n",
       " '7': 'The Lone Ranger',\n",
       " '8': 1478,\n",
       " '9': 'The Dark Knight',\n",
       " '10': 'The Lone Ranger',\n",
       " '11': 'Drama',\n",
       " '12': 'Drama',\n",
       " '13': 'Peter Jackson',\n",
       " '14': 'Robert Rodriguez',\n",
       " '15': 'Chris Hemsworth',\n",
       " '16': 'Matt Damon',\n",
       " '17': 'Action',\n",
       " '18': ('tt0267626', 'K-19: The Widowmaker'),\n",
       " '19': 2015,\n",
       " '20': 2014,\n",
       " '21': 9,\n",
       " '22': 450,\n",
       " '23': 'Peter Jackson',\n",
       " '24': 'Four By Two Productions',\n",
       " '25': 'Midnight Picture Show',\n",
       " '26': ['Inside Out',\n",
       "  'Room',\n",
       "  'Interstellar',\n",
       "  'Guardians of the Galaxy',\n",
       "  'The Imitation Game',\n",
       "  'Gone Girl',\n",
       "  'The Grand Budapest Hotel',\n",
       "  'Inception',\n",
       "  'The Dark Knight',\n",
       "  'The Pianist',\n",
       "  'The Lord of the Rings: The Return of the King',\n",
       "  'The Wolf of Wall Street',\n",
       "  '12 Years a Slave',\n",
       "  'Memento'],\n",
       " '27': {Daniel Radcliffe, Emma Watson}        16\n",
       " {Emma Watson, Rupert Grint}            16\n",
       " {Daniel Radcliffe, Rupert Grint}       16\n",
       " {Owen Wilson, Ben Stiller}             12\n",
       " {Helena Bonham Carter, Johnny Depp}    12\n",
       " Name: combocast, dtype: int64}"
      ]
     },
     "execution_count": 256,
     "metadata": {},
     "output_type": "execute_result"
    }
   ],
   "source": [
    "# в конце можно посмотреть свои ответы к каждому вопросу\n",
    "answers"
   ]
  },
  {
   "cell_type": "code",
   "execution_count": 257,
   "metadata": {
    "colab": {},
    "colab_type": "code",
    "id": "SiRmHPl8VqAd"
   },
   "outputs": [
    {
     "data": {
      "text/plain": [
       "27"
      ]
     },
     "execution_count": 257,
     "metadata": {},
     "output_type": "execute_result"
    }
   ],
   "source": [
    "# и убедиться что ни чего не пропустил)\n",
    "len(answers)"
   ]
  }
 ],
 "metadata": {
  "colab": {
   "name": "Copy of [SF-DST] Movies IMBD v4.1 TEMPLATE.ipynb",
   "provenance": []
  },
  "kernelspec": {
   "display_name": "Python 3",
   "language": "python",
   "name": "python3"
  },
  "language_info": {
   "codemirror_mode": {
    "name": "ipython",
    "version": 3
   },
   "file_extension": ".py",
   "mimetype": "text/x-python",
   "name": "python",
   "nbconvert_exporter": "python",
   "pygments_lexer": "ipython3",
   "version": "3.7.6"
  }
 },
 "nbformat": 4,
 "nbformat_minor": 1
}
